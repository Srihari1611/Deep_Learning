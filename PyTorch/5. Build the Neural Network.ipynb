{
 "cells": [
  {
   "cell_type": "markdown",
   "id": "440475af",
   "metadata": {
    "papermill": {
     "duration": 0.006631,
     "end_time": "2023-07-25T06:15:43.497969",
     "exception": false,
     "start_time": "2023-07-25T06:15:43.491338",
     "status": "completed"
    },
    "tags": []
   },
   "source": [
    "# Build the Neural Network"
   ]
  },
  {
   "cell_type": "markdown",
   "id": "aa72c1a0",
   "metadata": {
    "papermill": {
     "duration": 0.004975,
     "end_time": "2023-07-25T06:15:43.508619",
     "exception": false,
     "start_time": "2023-07-25T06:15:43.503644",
     "status": "completed"
    },
    "tags": []
   },
   "source": [
    "Imports"
   ]
  },
  {
   "cell_type": "code",
   "execution_count": 1,
   "id": "cc48a54b",
   "metadata": {
    "execution": {
     "iopub.execute_input": "2023-07-25T06:15:43.522242Z",
     "iopub.status.busy": "2023-07-25T06:15:43.521677Z",
     "iopub.status.idle": "2023-07-25T06:15:48.675162Z",
     "shell.execute_reply": "2023-07-25T06:15:48.673379Z"
    },
    "papermill": {
     "duration": 5.164394,
     "end_time": "2023-07-25T06:15:48.678292",
     "exception": false,
     "start_time": "2023-07-25T06:15:43.513898",
     "status": "completed"
    },
    "tags": []
   },
   "outputs": [],
   "source": [
    "import os\n",
    "import torch\n",
    "from torch import nn\n",
    "from torch.utils.data import DataLoader\n",
    "from torchvision import datasets, transforms"
   ]
  },
  {
   "cell_type": "code",
   "execution_count": 2,
   "id": "a0eeff63",
   "metadata": {
    "execution": {
     "iopub.execute_input": "2023-07-25T06:15:48.693472Z",
     "iopub.status.busy": "2023-07-25T06:15:48.691701Z",
     "iopub.status.idle": "2023-07-25T06:15:48.701774Z",
     "shell.execute_reply": "2023-07-25T06:15:48.699898Z"
    },
    "papermill": {
     "duration": 0.020858,
     "end_time": "2023-07-25T06:15:48.704928",
     "exception": false,
     "start_time": "2023-07-25T06:15:48.684070",
     "status": "completed"
    },
    "tags": []
   },
   "outputs": [
    {
     "name": "stdout",
     "output_type": "stream",
     "text": [
      "Using cpu devices\n"
     ]
    }
   ],
   "source": [
    "device = (\n",
    "\"cuda\"\n",
    "    \n",
    "if torch.backends.mps.is_available()\n",
    "else \"cpu\"\n",
    ")\n",
    "\n",
    "print(f\"Using {device} devices\")"
   ]
  },
  {
   "cell_type": "code",
   "execution_count": 3,
   "id": "b8239dc2",
   "metadata": {
    "execution": {
     "iopub.execute_input": "2023-07-25T06:15:48.718931Z",
     "iopub.status.busy": "2023-07-25T06:15:48.718487Z",
     "iopub.status.idle": "2023-07-25T06:15:48.729620Z",
     "shell.execute_reply": "2023-07-25T06:15:48.727419Z"
    },
    "papermill": {
     "duration": 0.021742,
     "end_time": "2023-07-25T06:15:48.732963",
     "exception": false,
     "start_time": "2023-07-25T06:15:48.711221",
     "status": "completed"
    },
    "tags": []
   },
   "outputs": [],
   "source": [
    "class neuralnetwork(nn.Module):\n",
    "    def __init__(self):\n",
    "        super().__init__()\n",
    "        self.flatten = nn.Flatten() # It changes the inout into one dimentional array or tensor\n",
    "        self.linear_relu_stack = nn.Sequential(\n",
    "        nn.Linear(28*28, 512),#Ax = b (x is input, A is weight, b is output)\n",
    "        nn.ReLU(),#relu activation\n",
    "        nn.Linear(512, 512),\n",
    "        nn.ReLU(),\n",
    "        nn.Linear(512,10) # input 512, output = 10\n",
    "        )\n",
    "        \n",
    "    def forward(self, x):\n",
    "        x = self.flatten(x)#one dim\n",
    "        logits = self.linear_relu_stack(x)\n",
    "        return(logits)"
   ]
  },
  {
   "cell_type": "code",
   "execution_count": 4,
   "id": "76ccd69a",
   "metadata": {
    "execution": {
     "iopub.execute_input": "2023-07-25T06:15:48.746976Z",
     "iopub.status.busy": "2023-07-25T06:15:48.746545Z",
     "iopub.status.idle": "2023-07-25T06:15:49.368296Z",
     "shell.execute_reply": "2023-07-25T06:15:49.366392Z"
    },
    "papermill": {
     "duration": 0.631367,
     "end_time": "2023-07-25T06:15:49.370332",
     "exception": true,
     "start_time": "2023-07-25T06:15:48.738965",
     "status": "failed"
    },
    "tags": []
   },
   "outputs": [
    {
     "name": "stdout",
     "output_type": "stream",
     "text": [
      "neuralnetwork(\n",
      "  (flatten): Flatten(start_dim=1, end_dim=-1)\n",
      "  (linear_relu_stack): Sequential(\n",
      "    (0): Linear(in_features=784, out_features=512, bias=True)\n",
      "    (1): ReLU()\n",
      "    (2): Linear(in_features=512, out_features=512, bias=True)\n",
      "    (3): ReLU()\n",
      "    (4): Linear(in_features=512, out_features=10, bias=True)\n",
      "  )\n",
      ")\n"
     ]
    },
    {
     "ename": "NameError",
     "evalue": "name 'logits' is not defined",
     "output_type": "error",
     "traceback": [
      "\u001b[0;31m---------------------------------------------------------------------------\u001b[0m",
      "\u001b[0;31mNameError\u001b[0m                                 Traceback (most recent call last)",
      "Cell \u001b[0;32mIn[4], line 3\u001b[0m\n\u001b[1;32m      1\u001b[0m model \u001b[38;5;241m=\u001b[39m neuralnetwork()\u001b[38;5;241m.\u001b[39mto(device)\n\u001b[1;32m      2\u001b[0m \u001b[38;5;28mprint\u001b[39m(model)\n\u001b[0;32m----> 3\u001b[0m \u001b[38;5;28mprint\u001b[39m(\u001b[43mlogits\u001b[49m)\n",
      "\u001b[0;31mNameError\u001b[0m: name 'logits' is not defined"
     ]
    }
   ],
   "source": [
    "model = neuralnetwork().to(device)\n",
    "print(model)\n",
    "print(logits)"
   ]
  },
  {
   "cell_type": "code",
   "execution_count": null,
   "id": "39f0e262",
   "metadata": {
    "execution": {
     "iopub.execute_input": "2023-07-25T06:13:37.441919Z",
     "iopub.status.busy": "2023-07-25T06:13:37.441421Z",
     "iopub.status.idle": "2023-07-25T06:13:37.453882Z",
     "shell.execute_reply": "2023-07-25T06:13:37.452622Z",
     "shell.execute_reply.started": "2023-07-25T06:13:37.441879Z"
    },
    "papermill": {
     "duration": null,
     "end_time": null,
     "exception": null,
     "start_time": null,
     "status": "pending"
    },
    "tags": []
   },
   "outputs": [],
   "source": [
    "X = torch.rand(1,28,28, device = device)\n",
    "y = torch.rand(2,3,4)#no of vec, rows, col\n",
    "# print(y)\n",
    "logits = model(X)\n",
    "print(logits)\n",
    "\n",
    "pred_prob = nn.Softmax(dim = 1)(logits)\n",
    "y_pred = pred_prob.argmax(1) # send the indeces of the highest value\n",
    "print(f\"Prediction class : {y_pred}\")"
   ]
  },
  {
   "cell_type": "code",
   "execution_count": null,
   "id": "76ee4278",
   "metadata": {
    "execution": {
     "iopub.execute_input": "2023-07-25T05:52:38.440667Z",
     "iopub.status.busy": "2023-07-25T05:52:38.440158Z",
     "iopub.status.idle": "2023-07-25T05:52:38.451639Z",
     "shell.execute_reply": "2023-07-25T05:52:38.450133Z",
     "shell.execute_reply.started": "2023-07-25T05:52:38.440626Z"
    },
    "papermill": {
     "duration": null,
     "end_time": null,
     "exception": null,
     "start_time": null,
     "status": "pending"
    },
    "tags": []
   },
   "outputs": [],
   "source": [
    "input_img = torch.rand(3,28,28)\n",
    "print(input_img)\n",
    "print(input_img.size())"
   ]
  },
  {
   "cell_type": "code",
   "execution_count": null,
   "id": "71030b57",
   "metadata": {
    "execution": {
     "iopub.execute_input": "2023-07-25T05:54:22.850051Z",
     "iopub.status.busy": "2023-07-25T05:54:22.849596Z",
     "iopub.status.idle": "2023-07-25T05:54:22.857269Z",
     "shell.execute_reply": "2023-07-25T05:54:22.856237Z",
     "shell.execute_reply.started": "2023-07-25T05:54:22.850018Z"
    },
    "papermill": {
     "duration": null,
     "end_time": null,
     "exception": null,
     "start_time": null,
     "status": "pending"
    },
    "tags": []
   },
   "outputs": [],
   "source": [
    "flatten = nn.Flatten()\n",
    "flat_image = flatten(input_img)\n",
    "print(flat_image.size()) # dim = 3, flattens 28*28(784)"
   ]
  },
  {
   "cell_type": "code",
   "execution_count": null,
   "id": "755f45c4",
   "metadata": {
    "execution": {
     "iopub.execute_input": "2023-07-25T05:58:02.313546Z",
     "iopub.status.busy": "2023-07-25T05:58:02.313053Z",
     "iopub.status.idle": "2023-07-25T05:58:02.323742Z",
     "shell.execute_reply": "2023-07-25T05:58:02.322480Z",
     "shell.execute_reply.started": "2023-07-25T05:58:02.313510Z"
    },
    "papermill": {
     "duration": null,
     "end_time": null,
     "exception": null,
     "start_time": null,
     "status": "pending"
    },
    "tags": []
   },
   "outputs": [],
   "source": [
    "layer1 = nn.Linear(28*28, 20)\n",
    "hidden1 = layer1(flat_image)\n",
    "print(hidden1,\"\\n\", hidden1.size())"
   ]
  },
  {
   "cell_type": "code",
   "execution_count": null,
   "id": "a8f531f3",
   "metadata": {
    "execution": {
     "iopub.execute_input": "2023-07-25T06:00:06.377200Z",
     "iopub.status.busy": "2023-07-25T06:00:06.376740Z",
     "iopub.status.idle": "2023-07-25T06:00:06.388111Z",
     "shell.execute_reply": "2023-07-25T06:00:06.386806Z",
     "shell.execute_reply.started": "2023-07-25T06:00:06.377155Z"
    },
    "papermill": {
     "duration": null,
     "end_time": null,
     "exception": null,
     "start_time": null,
     "status": "pending"
    },
    "tags": []
   },
   "outputs": [],
   "source": [
    "print(f\"Before ReLU : {hidden1}\\n\\n\")\n",
    "hidden1 = nn.ReLU()(hidden1)#negative as 0 and positive identity\n",
    "print(f\"After ReLU : {hidden1}\")"
   ]
  },
  {
   "cell_type": "code",
   "execution_count": null,
   "id": "fb6811c6",
   "metadata": {
    "execution": {
     "iopub.execute_input": "2023-07-25T06:04:59.073105Z",
     "iopub.status.busy": "2023-07-25T06:04:59.072599Z",
     "iopub.status.idle": "2023-07-25T06:04:59.080856Z",
     "shell.execute_reply": "2023-07-25T06:04:59.079682Z",
     "shell.execute_reply.started": "2023-07-25T06:04:59.073063Z"
    },
    "papermill": {
     "duration": null,
     "end_time": null,
     "exception": null,
     "start_time": null,
     "status": "pending"
    },
    "tags": []
   },
   "outputs": [],
   "source": [
    "seq_modules = nn.Sequential(\n",
    "flatten,\n",
    "layer1,\n",
    "nn.ReLU(),\n",
    "nn.Linear(20,10)\n",
    ")\n",
    "\n",
    "input_image = torch.rand(3, 28, 28)\n",
    "logits = seq_modules(input_image)"
   ]
  },
  {
   "cell_type": "code",
   "execution_count": null,
   "id": "668b841d",
   "metadata": {
    "execution": {
     "iopub.execute_input": "2023-07-25T06:05:42.272560Z",
     "iopub.status.busy": "2023-07-25T06:05:42.272042Z",
     "iopub.status.idle": "2023-07-25T06:05:42.279210Z",
     "shell.execute_reply": "2023-07-25T06:05:42.277494Z",
     "shell.execute_reply.started": "2023-07-25T06:05:42.272518Z"
    },
    "papermill": {
     "duration": null,
     "end_time": null,
     "exception": null,
     "start_time": null,
     "status": "pending"
    },
    "tags": []
   },
   "outputs": [],
   "source": [
    "softmax = nn.Softmax(dim = 1)\n",
    "pred_prob = softmax(input_image)"
   ]
  },
  {
   "cell_type": "code",
   "execution_count": null,
   "id": "91ca2833",
   "metadata": {
    "execution": {
     "iopub.execute_input": "2023-07-25T06:07:19.311527Z",
     "iopub.status.busy": "2023-07-25T06:07:19.311003Z",
     "iopub.status.idle": "2023-07-25T06:07:19.325660Z",
     "shell.execute_reply": "2023-07-25T06:07:19.324308Z",
     "shell.execute_reply.started": "2023-07-25T06:07:19.311485Z"
    },
    "papermill": {
     "duration": null,
     "end_time": null,
     "exception": null,
     "start_time": null,
     "status": "pending"
    },
    "tags": []
   },
   "outputs": [],
   "source": [
    "print(f\"Model Structure : {model}\")\n",
    "\n",
    "for name, param in model.named_parameters():\n",
    "    print(f\"Layer : {name}, Size : {param.size()}, Values : {param[:2]}\\n\")"
   ]
  }
 ],
 "metadata": {
  "kernelspec": {
   "display_name": "Python 3",
   "language": "python",
   "name": "python3"
  },
  "language_info": {
   "codemirror_mode": {
    "name": "ipython",
    "version": 3
   },
   "file_extension": ".py",
   "mimetype": "text/x-python",
   "name": "python",
   "nbconvert_exporter": "python",
   "pygments_lexer": "ipython3",
   "version": "3.10.12"
  },
  "papermill": {
   "default_parameters": {},
   "duration": 21.466175,
   "end_time": "2023-07-25T06:15:51.004713",
   "environment_variables": {},
   "exception": true,
   "input_path": "__notebook__.ipynb",
   "output_path": "__notebook__.ipynb",
   "parameters": {},
   "start_time": "2023-07-25T06:15:29.538538",
   "version": "2.4.0"
  }
 },
 "nbformat": 4,
 "nbformat_minor": 5
}
