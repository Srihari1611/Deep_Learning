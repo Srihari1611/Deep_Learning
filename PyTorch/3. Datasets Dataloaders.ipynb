{
 "cells": [
  {
   "cell_type": "markdown",
   "id": "2618c2b9",
   "metadata": {
    "papermill": {
     "duration": 0.004803,
     "end_time": "2023-07-24T09:00:19.705842",
     "exception": false,
     "start_time": "2023-07-24T09:00:19.701039",
     "status": "completed"
    },
    "tags": []
   },
   "source": [
    "# Datasets and DataLoader"
   ]
  },
  {
   "cell_type": "markdown",
   "id": "a15c99ab",
   "metadata": {
    "papermill": {
     "duration": 0.003833,
     "end_time": "2023-07-24T09:00:19.714098",
     "exception": false,
     "start_time": "2023-07-24T09:00:19.710265",
     "status": "completed"
    },
    "tags": []
   },
   "source": [
    "Imports"
   ]
  },
  {
   "cell_type": "code",
   "execution_count": 1,
   "id": "cae35041",
   "metadata": {
    "execution": {
     "iopub.execute_input": "2023-07-24T09:00:19.724445Z",
     "iopub.status.busy": "2023-07-24T09:00:19.723925Z",
     "iopub.status.idle": "2023-07-24T09:00:25.001201Z",
     "shell.execute_reply": "2023-07-24T09:00:24.999838Z"
    },
    "papermill": {
     "duration": 5.286276,
     "end_time": "2023-07-24T09:00:25.004484",
     "exception": false,
     "start_time": "2023-07-24T09:00:19.718208",
     "status": "completed"
    },
    "tags": []
   },
   "outputs": [],
   "source": [
    "import torch\n",
    "from torch.utils.data import Dataset, DataLoader\n",
    "from torchvision import datasets\n",
    "from torchvision.transforms import ToTensor\n",
    "import matplotlib.pyplot as plt\n",
    "import os\n",
    "import pandas as pd\n",
    "from torchvision.io import read_image"
   ]
  },
  {
   "cell_type": "markdown",
   "id": "dc639bd7",
   "metadata": {
    "papermill": {
     "duration": 0.004462,
     "end_time": "2023-07-24T09:00:25.014626",
     "exception": false,
     "start_time": "2023-07-24T09:00:25.010164",
     "status": "completed"
    },
    "tags": []
   },
   "source": [
    "Training and Testing data"
   ]
  },
  {
   "cell_type": "code",
   "execution_count": 2,
   "id": "3e9aef08",
   "metadata": {
    "execution": {
     "iopub.execute_input": "2023-07-24T09:00:25.025952Z",
     "iopub.status.busy": "2023-07-24T09:00:25.025137Z",
     "iopub.status.idle": "2023-07-24T09:00:26.727185Z",
     "shell.execute_reply": "2023-07-24T09:00:26.726049Z"
    },
    "papermill": {
     "duration": 1.710933,
     "end_time": "2023-07-24T09:00:26.729840",
     "exception": false,
     "start_time": "2023-07-24T09:00:25.018907",
     "status": "completed"
    },
    "tags": []
   },
   "outputs": [
    {
     "name": "stdout",
     "output_type": "stream",
     "text": [
      "Downloading http://fashion-mnist.s3-website.eu-central-1.amazonaws.com/train-images-idx3-ubyte.gz\n",
      "Downloading http://fashion-mnist.s3-website.eu-central-1.amazonaws.com/train-images-idx3-ubyte.gz to data/FashionMNIST/raw/train-images-idx3-ubyte.gz\n"
     ]
    },
    {
     "name": "stderr",
     "output_type": "stream",
     "text": [
      "100%|██████████| 26421880/26421880 [00:00<00:00, 115675366.71it/s]\n"
     ]
    },
    {
     "name": "stdout",
     "output_type": "stream",
     "text": [
      "Extracting data/FashionMNIST/raw/train-images-idx3-ubyte.gz to data/FashionMNIST/raw\n",
      "\n",
      "Downloading http://fashion-mnist.s3-website.eu-central-1.amazonaws.com/train-labels-idx1-ubyte.gz\n",
      "Downloading http://fashion-mnist.s3-website.eu-central-1.amazonaws.com/train-labels-idx1-ubyte.gz to data/FashionMNIST/raw/train-labels-idx1-ubyte.gz\n"
     ]
    },
    {
     "name": "stderr",
     "output_type": "stream",
     "text": [
      "100%|██████████| 29515/29515 [00:00<00:00, 4127596.78it/s]"
     ]
    },
    {
     "name": "stdout",
     "output_type": "stream",
     "text": [
      "Extracting data/FashionMNIST/raw/train-labels-idx1-ubyte.gz to data/FashionMNIST/raw\n",
      "\n",
      "Downloading http://fashion-mnist.s3-website.eu-central-1.amazonaws.com/t10k-images-idx3-ubyte.gz\n"
     ]
    },
    {
     "name": "stderr",
     "output_type": "stream",
     "text": [
      "\n"
     ]
    },
    {
     "name": "stdout",
     "output_type": "stream",
     "text": [
      "Downloading http://fashion-mnist.s3-website.eu-central-1.amazonaws.com/t10k-images-idx3-ubyte.gz to data/FashionMNIST/raw/t10k-images-idx3-ubyte.gz\n"
     ]
    },
    {
     "name": "stderr",
     "output_type": "stream",
     "text": [
      "100%|██████████| 4422102/4422102 [00:00<00:00, 46095752.46it/s]"
     ]
    },
    {
     "name": "stdout",
     "output_type": "stream",
     "text": [
      "Extracting data/FashionMNIST/raw/t10k-images-idx3-ubyte.gz to data/FashionMNIST/raw\n"
     ]
    },
    {
     "name": "stderr",
     "output_type": "stream",
     "text": [
      "\n"
     ]
    },
    {
     "name": "stdout",
     "output_type": "stream",
     "text": [
      "\n",
      "Downloading http://fashion-mnist.s3-website.eu-central-1.amazonaws.com/t10k-labels-idx1-ubyte.gz\n",
      "Downloading http://fashion-mnist.s3-website.eu-central-1.amazonaws.com/t10k-labels-idx1-ubyte.gz to data/FashionMNIST/raw/t10k-labels-idx1-ubyte.gz\n"
     ]
    },
    {
     "name": "stderr",
     "output_type": "stream",
     "text": [
      "100%|██████████| 5148/5148 [00:00<00:00, 7863174.43it/s]"
     ]
    },
    {
     "name": "stdout",
     "output_type": "stream",
     "text": [
      "Extracting data/FashionMNIST/raw/t10k-labels-idx1-ubyte.gz to data/FashionMNIST/raw\n",
      "\n"
     ]
    },
    {
     "name": "stderr",
     "output_type": "stream",
     "text": [
      "\n"
     ]
    }
   ],
   "source": [
    "training_data = datasets.FashionMNIST(\n",
    "root = \"data\",\n",
    "train = True,\n",
    "download = True,\n",
    "transform = ToTensor()\n",
    ")\n",
    "\n",
    "testing_data = datasets.FashionMNIST(\n",
    "root = \"data\",\n",
    "train = False,\n",
    "download = True,\n",
    "transform = ToTensor()\n",
    ")"
   ]
  },
  {
   "cell_type": "markdown",
   "id": "79b8bf56",
   "metadata": {
    "papermill": {
     "duration": 0.005971,
     "end_time": "2023-07-24T09:00:26.742155",
     "exception": false,
     "start_time": "2023-07-24T09:00:26.736184",
     "status": "completed"
    },
    "tags": []
   },
   "source": [
    "Display"
   ]
  },
  {
   "cell_type": "code",
   "execution_count": 3,
   "id": "0d4f2125",
   "metadata": {
    "execution": {
     "iopub.execute_input": "2023-07-24T09:00:26.756980Z",
     "iopub.status.busy": "2023-07-24T09:00:26.756486Z",
     "iopub.status.idle": "2023-07-24T09:00:27.774693Z",
     "shell.execute_reply": "2023-07-24T09:00:27.773229Z"
    },
    "papermill": {
     "duration": 1.031334,
     "end_time": "2023-07-24T09:00:27.779674",
     "exception": false,
     "start_time": "2023-07-24T09:00:26.748340",
     "status": "completed"
    },
    "tags": []
   },
   "outputs": [
    {
     "data": {
      "image/png": "[encoded data removed]",
      "text/plain": [
       "<Figure size 800x800 with 9 Axes>"
      ]
     },
     "metadata": {},
     "output_type": "display_data"
    }
   ],
   "source": [
    "labels_map = {\n",
    "    0: \"Tshirts\",\n",
    "    1: \"Trousers\",\n",
    "    2: \"Pullover\",\n",
    "    3: \"Dress\",\n",
    "    4: \"Coat\",\n",
    "    5: \"Sandal\",\n",
    "    6: \"Shirt\",\n",
    "    7: \"Sneaker\",\n",
    "    8: \"Bag\",\n",
    "    9: \"Ankle Boot\",\n",
    "}\n",
    "\n",
    "figure = plt.figure(figsize=(8, 8))\n",
    "\n",
    "col, row = 3,3\n",
    "\n",
    "for i in range(1,col*row +1):\n",
    "    sample_idx = torch.randint(len(training_data), size = (1,)).item()\n",
    "    \n",
    "    img, label = training_data[sample_idx]\n",
    "    \n",
    "    figure.add_subplot(row, col, i)\n",
    "    \n",
    "    plt.title(labels_map[label])\n",
    "    \n",
    "    plt.axis(\"off\")\n",
    "    \n",
    "    plt.imshow(img.squeeze(), cmap = \"gray\")\n",
    "    \n",
    "plt.show()"
   ]
  },
  {
   "cell_type": "code",
   "execution_count": 4,
   "id": "34b4111e",
   "metadata": {
    "execution": {
     "iopub.execute_input": "2023-07-24T09:00:27.807246Z",
     "iopub.status.busy": "2023-07-24T09:00:27.805997Z",
     "iopub.status.idle": "2023-07-24T09:00:27.816227Z",
     "shell.execute_reply": "2023-07-24T09:00:27.815021Z"
    },
    "papermill": {
     "duration": 0.025658,
     "end_time": "2023-07-24T09:00:27.819452",
     "exception": false,
     "start_time": "2023-07-24T09:00:27.793794",
     "status": "completed"
    },
    "tags": []
   },
   "outputs": [],
   "source": [
    "class CustomImageDataset(Dataset):\n",
    "    def __init__(self, annotations_file, img_dir, transform = None, target_transform = None):\n",
    "        self.img_label = pd.read_csv(annotations_file)\n",
    "        self.img_dir = pd.read_csv(img_dir)\n",
    "        self.transform = transorm\n",
    "        self.target_transform = target_transform\n",
    "        \n",
    "    def __len__(self):\n",
    "        return(len(self.img_label))\n",
    "    \n",
    "    def __getitem__(self, idx):\n",
    "        img_path = os.path.join(self.img_dir, self.img_label.iloc[idx, 0])\n",
    "        image = read_image(img_path)\n",
    "        label = self.img_label.iloc[idx, 1]\n",
    "        \n",
    "        if self.transform:\n",
    "            image = self.transform(image)\n",
    "        if self.target_transform:\n",
    "            label = self.target_transform(label)\n",
    "            \n",
    "        return image, label"
   ]
  },
  {
   "cell_type": "code",
   "execution_count": 5,
   "id": "6971550a",
   "metadata": {
    "execution": {
     "iopub.execute_input": "2023-07-24T09:00:27.837038Z",
     "iopub.status.busy": "2023-07-24T09:00:27.836059Z",
     "iopub.status.idle": "2023-07-24T09:00:27.842474Z",
     "shell.execute_reply": "2023-07-24T09:00:27.841281Z"
    },
    "papermill": {
     "duration": 0.018625,
     "end_time": "2023-07-24T09:00:27.845293",
     "exception": false,
     "start_time": "2023-07-24T09:00:27.826668",
     "status": "completed"
    },
    "tags": []
   },
   "outputs": [],
   "source": [
    "train_dataloader = DataLoader(training_data, batch_size = 64, shuffle = True)\n",
    "test_dataloader = DataLoader(testing_data, batch_size = 64, shuffle = True)"
   ]
  },
  {
   "cell_type": "code",
   "execution_count": 6,
   "id": "a58fe527",
   "metadata": {
    "execution": {
     "iopub.execute_input": "2023-07-24T09:00:27.862597Z",
     "iopub.status.busy": "2023-07-24T09:00:27.861846Z",
     "iopub.status.idle": "2023-07-24T09:00:28.180771Z",
     "shell.execute_reply": "2023-07-24T09:00:28.179742Z"
    },
    "papermill": {
     "duration": 0.330783,
     "end_time": "2023-07-24T09:00:28.183361",
     "exception": false,
     "start_time": "2023-07-24T09:00:27.852578",
     "status": "completed"
    },
    "tags": []
   },
   "outputs": [
    {
     "name": "stdout",
     "output_type": "stream",
     "text": [
      "Feature Batch shape : torch.Size([64, 1, 28, 28])\n",
      "Label Batch shape : torch.Size([64])\n",
      "Label : 5\n"
     ]
    },
    {
     "data": {
      "image/png": "[encoded data removed]",
      "text/plain": [
       "<Figure size 640x480 with 1 Axes>"
      ]
     },
     "metadata": {},
     "output_type": "display_data"
    }
   ],
   "source": [
    "train_features, train_labels = next(iter(train_dataloader))\n",
    "print(f\"Feature Batch shape : {train_features.size()}\")\n",
    "print(f\"Label Batch shape : {train_labels.size()}\")\n",
    "\n",
    "img = train_features[0].squeeze()\n",
    "label = train_labels[0]\n",
    "print(f\"Label : {label}\")\n",
    "\n",
    "plt.imshow(img, cmap = \"gray\")\n",
    "plt.show()\n",
    "\n"
   ]
  }
 ],
 "metadata": {
  "kernelspec": {
   "display_name": "Python 3",
   "language": "python",
   "name": "python3"
  },
  "language_info": {
   "codemirror_mode": {
    "name": "ipython",
    "version": 3
   },
   "file_extension": ".py",
   "mimetype": "text/x-python",
   "name": "python",
   "nbconvert_exporter": "python",
   "pygments_lexer": "ipython3",
   "version": "3.10.12"
  },
  "papermill": {
   "default_parameters": {},
   "duration": 27.024979,
   "end_time": "2023-07-24T09:00:31.165199",
   "environment_variables": {},
   "exception": null,
   "input_path": "__notebook__.ipynb",
   "output_path": "__notebook__.ipynb",
   "parameters": {},
   "start_time": "2023-07-24T09:00:04.140220",
   "version": "2.4.0"
  }
 },
 "nbformat": 4,
 "nbformat_minor": 5
}
