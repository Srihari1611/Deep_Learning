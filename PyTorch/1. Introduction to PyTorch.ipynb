{
 "cells": [
  {
   "cell_type": "markdown",
   "id": "91d2b173",
   "metadata": {
    "papermill": {
     "duration": 0.006369,
     "end_time": "2023-07-21T06:16:30.709448",
     "exception": false,
     "start_time": "2023-07-21T06:16:30.703079",
     "status": "completed"
    },
    "tags": []
   },
   "source": [
    "# Imports"
   ]
  },
  {
   "cell_type": "code",
   "execution_count": 1,
   "id": "90849c0b",
   "metadata": {
    "execution": {
     "iopub.execute_input": "2023-07-21T06:16:30.723127Z",
     "iopub.status.busy": "2023-07-21T06:16:30.722755Z",
     "iopub.status.idle": "2023-07-21T06:16:34.387206Z",
     "shell.execute_reply": "2023-07-21T06:16:34.386003Z"
    },
    "papermill": {
     "duration": 3.674205,
     "end_time": "2023-07-21T06:16:34.389759",
     "exception": false,
     "start_time": "2023-07-21T06:16:30.715554",
     "status": "completed"
    },
    "tags": []
   },
   "outputs": [],
   "source": [
    "import torch\n",
    "# from torch.utils.data import Datasets\n",
    "from torch.utils.data import DataLoader\n",
    "from torchvision import datasets\n",
    "from torchvision.transforms import ToTensor\n",
    "from torch import nn"
   ]
  },
  {
   "cell_type": "markdown",
   "id": "a5449057",
   "metadata": {
    "papermill": {
     "duration": 0.005288,
     "end_time": "2023-07-21T06:16:34.400959",
     "exception": false,
     "start_time": "2023-07-21T06:16:34.395671",
     "status": "completed"
    },
    "tags": []
   },
   "source": [
    "Initializing Training Data and Testing Data"
   ]
  },
  {
   "cell_type": "code",
   "execution_count": 2,
   "id": "b53faa38",
   "metadata": {
    "execution": {
     "iopub.execute_input": "2023-07-21T06:16:34.413809Z",
     "iopub.status.busy": "2023-07-21T06:16:34.413164Z",
     "iopub.status.idle": "2023-07-21T06:16:41.161201Z",
     "shell.execute_reply": "2023-07-21T06:16:41.159903Z"
    },
    "papermill": {
     "duration": 6.757317,
     "end_time": "2023-07-21T06:16:41.163915",
     "exception": false,
     "start_time": "2023-07-21T06:16:34.406598",
     "status": "completed"
    },
    "tags": []
   },
   "outputs": [
    {
     "name": "stdout",
     "output_type": "stream",
     "text": [
      "Downloading http://fashion-mnist.s3-website.eu-central-1.amazonaws.com/train-images-idx3-ubyte.gz\n",
      "Downloading http://fashion-mnist.s3-website.eu-central-1.amazonaws.com/train-images-idx3-ubyte.gz to data/FashionMNIST/raw/train-images-idx3-ubyte.gz\n"
     ]
    },
    {
     "name": "stderr",
     "output_type": "stream",
     "text": [
      "100%|██████████| 26421880/26421880 [00:02<00:00, 12474384.55it/s]\n"
     ]
    },
    {
     "name": "stdout",
     "output_type": "stream",
     "text": [
      "Extracting data/FashionMNIST/raw/train-images-idx3-ubyte.gz to data/FashionMNIST/raw\n",
      "\n",
      "Downloading http://fashion-mnist.s3-website.eu-central-1.amazonaws.com/train-labels-idx1-ubyte.gz\n",
      "Downloading http://fashion-mnist.s3-website.eu-central-1.amazonaws.com/train-labels-idx1-ubyte.gz to data/FashionMNIST/raw/train-labels-idx1-ubyte.gz\n"
     ]
    },
    {
     "name": "stderr",
     "output_type": "stream",
     "text": [
      "100%|██████████| 29515/29515 [00:00<00:00, 209457.95it/s]\n"
     ]
    },
    {
     "name": "stdout",
     "output_type": "stream",
     "text": [
      "Extracting data/FashionMNIST/raw/train-labels-idx1-ubyte.gz to data/FashionMNIST/raw\n",
      "\n",
      "Downloading http://fashion-mnist.s3-website.eu-central-1.amazonaws.com/t10k-images-idx3-ubyte.gz\n",
      "Downloading http://fashion-mnist.s3-website.eu-central-1.amazonaws.com/t10k-images-idx3-ubyte.gz to data/FashionMNIST/raw/t10k-images-idx3-ubyte.gz\n"
     ]
    },
    {
     "name": "stderr",
     "output_type": "stream",
     "text": [
      "100%|██████████| 4422102/4422102 [00:01<00:00, 3882056.72it/s]\n"
     ]
    },
    {
     "name": "stdout",
     "output_type": "stream",
     "text": [
      "Extracting data/FashionMNIST/raw/t10k-images-idx3-ubyte.gz to data/FashionMNIST/raw\n",
      "\n",
      "Downloading http://fashion-mnist.s3-website.eu-central-1.amazonaws.com/t10k-labels-idx1-ubyte.gz\n",
      "Downloading http://fashion-mnist.s3-website.eu-central-1.amazonaws.com/t10k-labels-idx1-ubyte.gz to data/FashionMNIST/raw/t10k-labels-idx1-ubyte.gz\n"
     ]
    },
    {
     "name": "stderr",
     "output_type": "stream",
     "text": [
      "100%|██████████| 5148/5148 [00:00<00:00, 7897687.27it/s]"
     ]
    },
    {
     "name": "stdout",
     "output_type": "stream",
     "text": [
      "Extracting data/FashionMNIST/raw/t10k-labels-idx1-ubyte.gz to data/FashionMNIST/raw\n",
      "\n"
     ]
    },
    {
     "name": "stderr",
     "output_type": "stream",
     "text": [
      "\n"
     ]
    }
   ],
   "source": [
    "training_data = datasets.FashionMNIST(root = \"data\", train = True, download = True, transform = ToTensor())\n",
    "testing_data = datasets.FashionMNIST(root = \"data\", train = False, download = True, transform = ToTensor())"
   ]
  },
  {
   "cell_type": "markdown",
   "id": "e05e6406",
   "metadata": {
    "papermill": {
     "duration": 0.009285,
     "end_time": "2023-07-21T06:16:41.183512",
     "exception": false,
     "start_time": "2023-07-21T06:16:41.174227",
     "status": "completed"
    },
    "tags": []
   },
   "source": [
    "Shape of the dataset"
   ]
  },
  {
   "cell_type": "code",
   "execution_count": 3,
   "id": "793bf559",
   "metadata": {
    "execution": {
     "iopub.execute_input": "2023-07-21T06:16:41.206309Z",
     "iopub.status.busy": "2023-07-21T06:16:41.205930Z",
     "iopub.status.idle": "2023-07-21T06:16:41.260461Z",
     "shell.execute_reply": "2023-07-21T06:16:41.259513Z"
    },
    "papermill": {
     "duration": 0.068481,
     "end_time": "2023-07-21T06:16:41.262719",
     "exception": false,
     "start_time": "2023-07-21T06:16:41.194238",
     "status": "completed"
    },
    "tags": []
   },
   "outputs": [
    {
     "name": "stdout",
     "output_type": "stream",
     "text": [
      "Shape of X : torch.Size([64, 1, 28, 28])\n",
      "shape of y : torch.int64\n"
     ]
    }
   ],
   "source": [
    "batch_size = 64\n",
    "\n",
    "train_dataloader = DataLoader(training_data, batch_size = batch_size)\n",
    "test_dataloader = DataLoader(testing_data, batch_size = batch_size)\n",
    "\n",
    "for X, y in test_dataloader:\n",
    "    print(f\"Shape of X : {X.shape}\")\n",
    "    print(f\"shape of y : {y.dtype}\")\n",
    "    break   "
   ]
  },
  {
   "cell_type": "markdown",
   "id": "958b924b",
   "metadata": {
    "papermill": {
     "duration": 0.009669,
     "end_time": "2023-07-21T06:16:41.281956",
     "exception": false,
     "start_time": "2023-07-21T06:16:41.272287",
     "status": "completed"
    },
    "tags": []
   },
   "source": [
    "Setting the Device"
   ]
  },
  {
   "cell_type": "code",
   "execution_count": 4,
   "id": "92d7eb54",
   "metadata": {
    "execution": {
     "iopub.execute_input": "2023-07-21T06:16:41.302523Z",
     "iopub.status.busy": "2023-07-21T06:16:41.301939Z",
     "iopub.status.idle": "2023-07-21T06:16:41.307585Z",
     "shell.execute_reply": "2023-07-21T06:16:41.306785Z"
    },
    "papermill": {
     "duration": 0.01814,
     "end_time": "2023-07-21T06:16:41.309658",
     "exception": false,
     "start_time": "2023-07-21T06:16:41.291518",
     "status": "completed"
    },
    "tags": []
   },
   "outputs": [
    {
     "name": "stdout",
     "output_type": "stream",
     "text": [
      "using cpu device\n"
     ]
    }
   ],
   "source": [
    "device = (\n",
    "    \"cuda\"\n",
    "    if torch.cuda.is_available()\n",
    "    else \"mps\"\n",
    "    if torch.backends.mps.is_available()\n",
    "    else \"cpu\"\n",
    ")\n",
    "\n",
    "print(f\"using {device} device\")"
   ]
  },
  {
   "cell_type": "markdown",
   "id": "d60741d7",
   "metadata": {
    "papermill": {
     "duration": 0.009376,
     "end_time": "2023-07-21T06:16:41.329899",
     "exception": false,
     "start_time": "2023-07-21T06:16:41.320523",
     "status": "completed"
    },
    "tags": []
   },
   "source": [
    "Defining Model"
   ]
  },
  {
   "cell_type": "code",
   "execution_count": 5,
   "id": "0b04ee66",
   "metadata": {
    "execution": {
     "iopub.execute_input": "2023-07-21T06:16:41.351543Z",
     "iopub.status.busy": "2023-07-21T06:16:41.350856Z",
     "iopub.status.idle": "2023-07-21T06:16:41.368678Z",
     "shell.execute_reply": "2023-07-21T06:16:41.367581Z"
    },
    "papermill": {
     "duration": 0.031176,
     "end_time": "2023-07-21T06:16:41.370729",
     "exception": false,
     "start_time": "2023-07-21T06:16:41.339553",
     "status": "completed"
    },
    "tags": []
   },
   "outputs": [
    {
     "name": "stdout",
     "output_type": "stream",
     "text": [
      "neuralnetwork(\n",
      "  (flatten): Flatten(start_dim=1, end_dim=-1)\n",
      "  (linear_relu_stack): Sequential(\n",
      "    (0): Linear(in_features=784, out_features=512, bias=True)\n",
      "    (1): ReLU()\n",
      "    (2): Linear(in_features=512, out_features=512, bias=True)\n",
      "    (3): ReLU()\n",
      "    (4): Linear(in_features=512, out_features=10, bias=True)\n",
      "  )\n",
      ")\n"
     ]
    }
   ],
   "source": [
    "class neuralnetwork(nn.Module):\n",
    "    def __init__(self):\n",
    "        super().__init__()\n",
    "        self.flatten = nn.Flatten()\n",
    "        self.linear_relu_stack = nn.Sequential(\n",
    "            nn.Linear(28*28, 512),\n",
    "            nn.ReLU(),\n",
    "            nn.Linear(512,512),\n",
    "            nn.ReLU(),\n",
    "            nn.Linear(512,10))\n",
    "        \n",
    "    def forward(self, x):\n",
    "        x = self.flatten(x)\n",
    "        logits = self.linear_relu_stack(x)\n",
    "        return logits\n",
    "    \n",
    "model = neuralnetwork().to(device)\n",
    "print(model)"
   ]
  },
  {
   "cell_type": "markdown",
   "id": "058bc5f5",
   "metadata": {
    "papermill": {
     "duration": 0.009594,
     "end_time": "2023-07-21T06:16:41.390366",
     "exception": false,
     "start_time": "2023-07-21T06:16:41.380772",
     "status": "completed"
    },
    "tags": []
   },
   "source": [
    "Loss Function"
   ]
  },
  {
   "cell_type": "code",
   "execution_count": 6,
   "id": "27308e11",
   "metadata": {
    "execution": {
     "iopub.execute_input": "2023-07-21T06:16:41.410789Z",
     "iopub.status.busy": "2023-07-21T06:16:41.410349Z",
     "iopub.status.idle": "2023-07-21T06:16:41.415854Z",
     "shell.execute_reply": "2023-07-21T06:16:41.414863Z"
    },
    "papermill": {
     "duration": 0.018118,
     "end_time": "2023-07-21T06:16:41.417867",
     "exception": false,
     "start_time": "2023-07-21T06:16:41.399749",
     "status": "completed"
    },
    "tags": []
   },
   "outputs": [],
   "source": [
    "loss_fun = nn.CrossEntropyLoss()\n",
    "optimizer = torch.optim.SGD(model.parameters(), lr = 1e-3)"
   ]
  },
  {
   "cell_type": "code",
   "execution_count": 7,
   "id": "0f817ab7",
   "metadata": {
    "execution": {
     "iopub.execute_input": "2023-07-21T06:16:41.438848Z",
     "iopub.status.busy": "2023-07-21T06:16:41.438460Z",
     "iopub.status.idle": "2023-07-21T06:16:41.446324Z",
     "shell.execute_reply": "2023-07-21T06:16:41.445347Z"
    },
    "papermill": {
     "duration": 0.020309,
     "end_time": "2023-07-21T06:16:41.448346",
     "exception": false,
     "start_time": "2023-07-21T06:16:41.428037",
     "status": "completed"
    },
    "tags": []
   },
   "outputs": [],
   "source": [
    "def train(dataloader, model, loss_fun, optimizer):\n",
    "    size = len(dataloader.dataset)\n",
    "    model.train()\n",
    "    for batch, (X, y) in enumerate(dataloader):\n",
    "        X, y = X.to(device), y.to(device)\n",
    "        \n",
    "        pred = model(X)\n",
    "        loss = loss_fun(pred, y)\n",
    "        \n",
    "        loss.backward()\n",
    "        optimizer.step()\n",
    "        optimizer.zero_grad()\n",
    "        \n",
    "        if batch % 100 == 0:\n",
    "            loss, current = loss.item(), (batch+1)*len(X)\n",
    "            print(f\"loss : {loss} [{current}/{size}]\")"
   ]
  },
  {
   "cell_type": "code",
   "execution_count": 8,
   "id": "c4eef2f6",
   "metadata": {
    "execution": {
     "iopub.execute_input": "2023-07-21T06:16:41.469613Z",
     "iopub.status.busy": "2023-07-21T06:16:41.469188Z",
     "iopub.status.idle": "2023-07-21T06:16:41.477292Z",
     "shell.execute_reply": "2023-07-21T06:16:41.476212Z"
    },
    "papermill": {
     "duration": 0.021416,
     "end_time": "2023-07-21T06:16:41.479442",
     "exception": false,
     "start_time": "2023-07-21T06:16:41.458026",
     "status": "completed"
    },
    "tags": []
   },
   "outputs": [],
   "source": [
    "def test(dataloader, model, loss_fun):\n",
    "    size = len(dataloader.dataset)\n",
    "    num_batches = len(dataloader)\n",
    "    model.eval()\n",
    "    test_loss, correct = 0,0\n",
    "    with torch.no_grad():\n",
    "        for X, y in dataloader:\n",
    "            X, y = X.to(device), y.to(device)\n",
    "            pred = model(X)\n",
    "            test_loss +=loss_fun(pred, y).item()\n",
    "            correct +=(pred.argmax(1) == y).type(torch.float).sum().item()\n",
    "    test_loss /= num_batches\n",
    "    correct /= size\n",
    "    print(f\"Test Error : \\n Accuracy : {(100*correct)}, Average Loss : {test_loss}\\n\")"
   ]
  },
  {
   "cell_type": "code",
   "execution_count": 9,
   "id": "4e1004e5",
   "metadata": {
    "execution": {
     "iopub.execute_input": "2023-07-21T06:16:41.501492Z",
     "iopub.status.busy": "2023-07-21T06:16:41.501032Z",
     "iopub.status.idle": "2023-07-21T06:17:36.536677Z",
     "shell.execute_reply": "2023-07-21T06:17:36.535515Z"
    },
    "papermill": {
     "duration": 55.049522,
     "end_time": "2023-07-21T06:17:36.539133",
     "exception": false,
     "start_time": "2023-07-21T06:16:41.489611",
     "status": "completed"
    },
    "tags": []
   },
   "outputs": [
    {
     "name": "stdout",
     "output_type": "stream",
     "text": [
      "Epochs 1\n",
      "\n",
      "loss : 2.295952558517456 [64/60000]\n",
      "loss : 2.289655923843384 [6464/60000]\n",
      "loss : 2.267094850540161 [12864/60000]\n",
      "loss : 2.263235092163086 [19264/60000]\n",
      "loss : 2.24517822265625 [25664/60000]\n",
      "loss : 2.208731174468994 [32064/60000]\n",
      "loss : 2.2231953144073486 [38464/60000]\n",
      "loss : 2.1900484561920166 [44864/60000]\n",
      "loss : 2.181304693222046 [51264/60000]\n",
      "loss : 2.1392862796783447 [57664/60000]\n",
      "Test Error : \n",
      " Accuracy : 38.29, Average Loss : 2.14236981853558\n",
      "\n",
      "Epochs 2\n",
      "\n",
      "loss : 2.153245449066162 [64/60000]\n",
      "loss : 2.1455278396606445 [6464/60000]\n",
      "loss : 2.083587646484375 [12864/60000]\n",
      "loss : 2.102672576904297 [19264/60000]\n",
      "loss : 2.04915714263916 [25664/60000]\n",
      "loss : 1.986999273300171 [32064/60000]\n",
      "loss : 2.0129506587982178 [38464/60000]\n",
      "loss : 1.9360803365707397 [44864/60000]\n",
      "loss : 1.9329363107681274 [51264/60000]\n",
      "loss : 1.8569904565811157 [57664/60000]\n",
      "Test Error : \n",
      " Accuracy : 56.97, Average Loss : 1.86182401818075\n",
      "\n",
      "Epochs 3\n",
      "\n",
      "loss : 1.8915159702301025 [64/60000]\n",
      "loss : 1.8638572692871094 [6464/60000]\n",
      "loss : 1.7438504695892334 [12864/60000]\n",
      "loss : 1.7933956384658813 [19264/60000]\n",
      "loss : 1.6813651323318481 [25664/60000]\n",
      "loss : 1.638104796409607 [32064/60000]\n",
      "loss : 1.6538726091384888 [38464/60000]\n",
      "loss : 1.5637003183364868 [44864/60000]\n",
      "loss : 1.583012580871582 [51264/60000]\n",
      "loss : 1.4782952070236206 [57664/60000]\n",
      "Test Error : \n",
      " Accuracy : 60.540000000000006, Average Loss : 1.5019751194935695\n",
      "\n",
      "Epochs 4\n",
      "\n",
      "loss : 1.5630581378936768 [64/60000]\n",
      "loss : 1.5332603454589844 [6464/60000]\n",
      "loss : 1.3842805624008179 [12864/60000]\n",
      "loss : 1.467602014541626 [19264/60000]\n",
      "loss : 1.3487277030944824 [25664/60000]\n",
      "loss : 1.3487224578857422 [32064/60000]\n",
      "loss : 1.3584684133529663 [38464/60000]\n",
      "loss : 1.2919777631759644 [44864/60000]\n",
      "loss : 1.3221074342727661 [51264/60000]\n",
      "loss : 1.2239969968795776 [57664/60000]\n",
      "Test Error : \n",
      " Accuracy : 62.580000000000005, Average Loss : 1.252967338653127\n",
      "\n",
      "Epochs 5\n",
      "\n",
      "loss : 1.3229761123657227 [64/60000]\n",
      "loss : 1.3095934391021729 [6464/60000]\n",
      "loss : 1.14497971534729 [12864/60000]\n",
      "loss : 1.2605907917022705 [19264/60000]\n",
      "loss : 1.1343350410461426 [25664/60000]\n",
      "loss : 1.162017822265625 [32064/60000]\n",
      "loss : 1.1781450510025024 [38464/60000]\n",
      "loss : 1.1245434284210205 [44864/60000]\n",
      "loss : 1.158634901046753 [51264/60000]\n",
      "loss : 1.0722496509552002 [57664/60000]\n",
      "Test Error : \n",
      " Accuracy : 64.35, Average Loss : 1.0967642513050395\n",
      "\n",
      "Training and Testing over\n"
     ]
    }
   ],
   "source": [
    "epochs = 5\n",
    "\n",
    "for t in range(epochs):\n",
    "    print(f\"Epochs {t+1}\\n\")\n",
    "    train(train_dataloader, model, loss_fun, optimizer)\n",
    "    test(test_dataloader, model, loss_fun)\n",
    "    \n",
    "print(\"Training and Testing over\")"
   ]
  },
  {
   "cell_type": "code",
   "execution_count": 10,
   "id": "4c70e8fc",
   "metadata": {
    "execution": {
     "iopub.execute_input": "2023-07-21T06:17:36.571530Z",
     "iopub.status.busy": "2023-07-21T06:17:36.571106Z",
     "iopub.status.idle": "2023-07-21T06:17:36.583122Z",
     "shell.execute_reply": "2023-07-21T06:17:36.581908Z"
    },
    "papermill": {
     "duration": 0.030466,
     "end_time": "2023-07-21T06:17:36.585686",
     "exception": false,
     "start_time": "2023-07-21T06:17:36.555220",
     "status": "completed"
    },
    "tags": []
   },
   "outputs": [
    {
     "name": "stdout",
     "output_type": "stream",
     "text": [
      "Model saved as Model.pth\n"
     ]
    }
   ],
   "source": [
    "torch.save(model.state_dict(), \"Model.pth\")\n",
    "\n",
    "print(\"Model saved as Model.pth\")"
   ]
  },
  {
   "cell_type": "code",
   "execution_count": 11,
   "id": "ba943e02",
   "metadata": {
    "execution": {
     "iopub.execute_input": "2023-07-21T06:17:36.616295Z",
     "iopub.status.busy": "2023-07-21T06:17:36.615932Z",
     "iopub.status.idle": "2023-07-21T06:17:36.634185Z",
     "shell.execute_reply": "2023-07-21T06:17:36.633396Z"
    },
    "papermill": {
     "duration": 0.036542,
     "end_time": "2023-07-21T06:17:36.636413",
     "exception": false,
     "start_time": "2023-07-21T06:17:36.599871",
     "status": "completed"
    },
    "tags": []
   },
   "outputs": [
    {
     "data": {
      "text/plain": [
       "<All keys matched successfully>"
      ]
     },
     "execution_count": 11,
     "metadata": {},
     "output_type": "execute_result"
    }
   ],
   "source": [
    "model = neuralnetwork().to(device)\n",
    "model.load_state_dict(torch.load(\"Model.pth\"))"
   ]
  },
  {
   "cell_type": "code",
   "execution_count": 12,
   "id": "9420a88d",
   "metadata": {
    "execution": {
     "iopub.execute_input": "2023-07-21T06:17:36.668739Z",
     "iopub.status.busy": "2023-07-21T06:17:36.668313Z",
     "iopub.status.idle": "2023-07-21T06:17:36.680461Z",
     "shell.execute_reply": "2023-07-21T06:17:36.679109Z"
    },
    "papermill": {
     "duration": 0.030454,
     "end_time": "2023-07-21T06:17:36.682751",
     "exception": false,
     "start_time": "2023-07-21T06:17:36.652297",
     "status": "completed"
    },
    "tags": []
   },
   "outputs": [
    {
     "name": "stdout",
     "output_type": "stream",
     "text": [
      "Predicted : Ankle boot, Actual : Ankle boot\n"
     ]
    }
   ],
   "source": [
    "classes = [\"T-shirt/top\",\"Trouser\",\"Pullover\",\"Dress\",\"Coat\",\"Sandal\",\"Shirt\",\"Sneaker\",\"Bag\",\"Ankle boot\"]\n",
    "\n",
    "model.eval()\n",
    "\n",
    "x,y = testing_data[0][0], testing_data [0][1]\n",
    "\n",
    "with torch.no_grad():\n",
    "    x = x.to(device)\n",
    "    pred = model(x)\n",
    "    \n",
    "    prediction, actual = classes[pred[0].argmax(0)], classes[y]\n",
    "    \n",
    "    print(f\"Predicted : {prediction}, Actual : {actual}\")"
   ]
  }
 ],
 "metadata": {
  "kernelspec": {
   "display_name": "Python 3",
   "language": "python",
   "name": "python3"
  },
  "language_info": {
   "codemirror_mode": {
    "name": "ipython",
    "version": 3
   },
   "file_extension": ".py",
   "mimetype": "text/x-python",
   "name": "python",
   "nbconvert_exporter": "python",
   "pygments_lexer": "ipython3",
   "version": "3.10.12"
  },
  "papermill": {
   "default_parameters": {},
   "duration": 77.899085,
   "end_time": "2023-07-21T06:17:38.022823",
   "environment_variables": {},
   "exception": null,
   "input_path": "__notebook__.ipynb",
   "output_path": "__notebook__.ipynb",
   "parameters": {},
   "start_time": "2023-07-21T06:16:20.123738",
   "version": "2.4.0"
  }
 },
 "nbformat": 4,
 "nbformat_minor": 5
}
