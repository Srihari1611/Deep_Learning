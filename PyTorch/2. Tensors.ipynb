{
 "cells": [
  {
   "cell_type": "markdown",
   "id": "f4036a7a",
   "metadata": {
    "papermill": {
     "duration": 0.005637,
     "end_time": "2023-07-21T10:15:04.432837",
     "exception": false,
     "start_time": "2023-07-21T10:15:04.427200",
     "status": "completed"
    },
    "tags": []
   },
   "source": [
    "# Tensors"
   ]
  },
  {
   "cell_type": "markdown",
   "id": "4e6b72ed",
   "metadata": {
    "papermill": {
     "duration": 0.004221,
     "end_time": "2023-07-21T10:15:04.441794",
     "exception": false,
     "start_time": "2023-07-21T10:15:04.437573",
     "status": "completed"
    },
    "tags": []
   },
   "source": [
    "Imports"
   ]
  },
  {
   "cell_type": "code",
   "execution_count": 1,
   "id": "f84b8d20",
   "metadata": {
    "execution": {
     "iopub.execute_input": "2023-07-21T10:15:04.452645Z",
     "iopub.status.busy": "2023-07-21T10:15:04.452008Z",
     "iopub.status.idle": "2023-07-21T10:15:07.567334Z",
     "shell.execute_reply": "2023-07-21T10:15:07.566493Z"
    },
    "papermill": {
     "duration": 3.123395,
     "end_time": "2023-07-21T10:15:07.569693",
     "exception": false,
     "start_time": "2023-07-21T10:15:04.446298",
     "status": "completed"
    },
    "tags": []
   },
   "outputs": [],
   "source": [
    "import torch as tr\n",
    "import numpy as np"
   ]
  },
  {
   "cell_type": "code",
   "execution_count": 2,
   "id": "5219600a",
   "metadata": {
    "execution": {
     "iopub.execute_input": "2023-07-21T10:15:07.581236Z",
     "iopub.status.busy": "2023-07-21T10:15:07.580093Z",
     "iopub.status.idle": "2023-07-21T10:15:07.599185Z",
     "shell.execute_reply": "2023-07-21T10:15:07.598225Z"
    },
    "papermill": {
     "duration": 0.027073,
     "end_time": "2023-07-21T10:15:07.601515",
     "exception": false,
     "start_time": "2023-07-21T10:15:07.574442",
     "status": "completed"
    },
    "tags": []
   },
   "outputs": [],
   "source": [
    "data = [[1,2],[3,4]]\n",
    "x_data = tr.tensor(data)"
   ]
  },
  {
   "cell_type": "code",
   "execution_count": 3,
   "id": "d1aeaf9a",
   "metadata": {
    "execution": {
     "iopub.execute_input": "2023-07-21T10:15:07.612321Z",
     "iopub.status.busy": "2023-07-21T10:15:07.611655Z",
     "iopub.status.idle": "2023-07-21T10:15:07.619353Z",
     "shell.execute_reply": "2023-07-21T10:15:07.618434Z"
    },
    "papermill": {
     "duration": 0.015331,
     "end_time": "2023-07-21T10:15:07.621601",
     "exception": false,
     "start_time": "2023-07-21T10:15:07.606270",
     "status": "completed"
    },
    "tags": []
   },
   "outputs": [],
   "source": [
    "np_arr = np.array(data)\n",
    "x_np = tr.from_numpy(np_arr)"
   ]
  },
  {
   "cell_type": "code",
   "execution_count": 4,
   "id": "49079b5e",
   "metadata": {
    "execution": {
     "iopub.execute_input": "2023-07-21T10:15:07.632400Z",
     "iopub.status.busy": "2023-07-21T10:15:07.632037Z",
     "iopub.status.idle": "2023-07-21T10:15:07.669071Z",
     "shell.execute_reply": "2023-07-21T10:15:07.668280Z"
    },
    "papermill": {
     "duration": 0.044913,
     "end_time": "2023-07-21T10:15:07.671143",
     "exception": false,
     "start_time": "2023-07-21T10:15:07.626230",
     "status": "completed"
    },
    "tags": []
   },
   "outputs": [
    {
     "name": "stdout",
     "output_type": "stream",
     "text": [
      "Ones Tensor : \n",
      "tensor([[1, 1],\n",
      "        [1, 1]])\n"
     ]
    }
   ],
   "source": [
    "x_ones = tr.ones_like(x_data)\n",
    "print(f\"Ones Tensor : \\n{x_ones}\")"
   ]
  },
  {
   "cell_type": "code",
   "execution_count": 5,
   "id": "cb9054ae",
   "metadata": {
    "execution": {
     "iopub.execute_input": "2023-07-21T10:15:07.682476Z",
     "iopub.status.busy": "2023-07-21T10:15:07.681430Z",
     "iopub.status.idle": "2023-07-21T10:15:07.727470Z",
     "shell.execute_reply": "2023-07-21T10:15:07.726338Z"
    },
    "papermill": {
     "duration": 0.053746,
     "end_time": "2023-07-21T10:15:07.729650",
     "exception": false,
     "start_time": "2023-07-21T10:15:07.675904",
     "status": "completed"
    },
    "tags": []
   },
   "outputs": [
    {
     "name": "stdout",
     "output_type": "stream",
     "text": [
      "Random Tensor : \n",
      " tensor([[0.9780, 0.7122],\n",
      "        [0.1323, 0.7049]])\n"
     ]
    }
   ],
   "source": [
    "x_rand = tr.rand_like(x_data, dtype = tr.float)\n",
    "print(f\"Random Tensor : \\n {x_rand}\")"
   ]
  },
  {
   "cell_type": "code",
   "execution_count": 6,
   "id": "518439cf",
   "metadata": {
    "execution": {
     "iopub.execute_input": "2023-07-21T10:15:07.740684Z",
     "iopub.status.busy": "2023-07-21T10:15:07.740314Z",
     "iopub.status.idle": "2023-07-21T10:15:07.750720Z",
     "shell.execute_reply": "2023-07-21T10:15:07.750012Z"
    },
    "papermill": {
     "duration": 0.018187,
     "end_time": "2023-07-21T10:15:07.752742",
     "exception": false,
     "start_time": "2023-07-21T10:15:07.734555",
     "status": "completed"
    },
    "tags": []
   },
   "outputs": [
    {
     "name": "stdout",
     "output_type": "stream",
     "text": [
      "Random Tensor : \n",
      " tensor([[0.0364, 0.6026, 0.8412],\n",
      "        [0.6325, 0.0698, 0.2192]])\n",
      "ones Tensor : \n",
      " tensor([[1., 1., 1.],\n",
      "        [1., 1., 1.]])\n",
      "Zeros Tensor : \n",
      " tensor([[0., 0., 0.],\n",
      "        [0., 0., 0.]])\n"
     ]
    }
   ],
   "source": [
    "shape = (2,3,)\n",
    "\n",
    "rand_tensor = tr.rand(shape)\n",
    "ones_tensor = tr.ones(shape)\n",
    "zeros_tensor = tr.zeros(shape)\n",
    "\n",
    "print(f\"Random Tensor : \\n {rand_tensor}\")\n",
    "print(f\"ones Tensor : \\n {ones_tensor}\")\n",
    "print(f\"Zeros Tensor : \\n {zeros_tensor}\")"
   ]
  },
  {
   "cell_type": "code",
   "execution_count": 7,
   "id": "5a40d9bb",
   "metadata": {
    "execution": {
     "iopub.execute_input": "2023-07-21T10:15:07.763688Z",
     "iopub.status.busy": "2023-07-21T10:15:07.763366Z",
     "iopub.status.idle": "2023-07-21T10:15:07.770305Z",
     "shell.execute_reply": "2023-07-21T10:15:07.769260Z"
    },
    "papermill": {
     "duration": 0.014913,
     "end_time": "2023-07-21T10:15:07.772456",
     "exception": false,
     "start_time": "2023-07-21T10:15:07.757543",
     "status": "completed"
    },
    "tags": []
   },
   "outputs": [
    {
     "name": "stdout",
     "output_type": "stream",
     "text": [
      "tensor([[0.5837, 0.2293, 0.6139, 0.7718],\n",
      "        [0.0839, 0.7181, 0.6664, 0.0499],\n",
      "        [0.2668, 0.8431, 0.9955, 0.4394]])\n"
     ]
    }
   ],
   "source": [
    "tensor = tr.rand(3,4)\n",
    "\n",
    "print(tensor)"
   ]
  },
  {
   "cell_type": "code",
   "execution_count": 8,
   "id": "42917dba",
   "metadata": {
    "execution": {
     "iopub.execute_input": "2023-07-21T10:15:07.784792Z",
     "iopub.status.busy": "2023-07-21T10:15:07.784206Z",
     "iopub.status.idle": "2023-07-21T10:15:07.789024Z",
     "shell.execute_reply": "2023-07-21T10:15:07.788080Z"
    },
    "papermill": {
     "duration": 0.013432,
     "end_time": "2023-07-21T10:15:07.791831",
     "exception": false,
     "start_time": "2023-07-21T10:15:07.778399",
     "status": "completed"
    },
    "tags": []
   },
   "outputs": [
    {
     "name": "stdout",
     "output_type": "stream",
     "text": [
      "Shape of tensor: torch.Size([3, 4])\n",
      "Datatype of tensor : torch.float32\n",
      "Device of the tensor : cpu\n"
     ]
    }
   ],
   "source": [
    "print(f\"Shape of tensor: {tensor.shape}\")\n",
    "\n",
    "print(f\"Datatype of tensor : {tensor.dtype}\")\n",
    "      \n",
    "print((f\"Device of the tensor : {tensor.device}\"))"
   ]
  },
  {
   "cell_type": "code",
   "execution_count": 9,
   "id": "55bb0abb",
   "metadata": {
    "execution": {
     "iopub.execute_input": "2023-07-21T10:15:07.803186Z",
     "iopub.status.busy": "2023-07-21T10:15:07.802597Z",
     "iopub.status.idle": "2023-07-21T10:15:07.817535Z",
     "shell.execute_reply": "2023-07-21T10:15:07.816176Z"
    },
    "papermill": {
     "duration": 0.022802,
     "end_time": "2023-07-21T10:15:07.819538",
     "exception": false,
     "start_time": "2023-07-21T10:15:07.796736",
     "status": "completed"
    },
    "tags": []
   },
   "outputs": [
    {
     "name": "stdout",
     "output_type": "stream",
     "text": [
      "First row : tensor([1., 1., 1., 1.])\n",
      "First column : tensor([1., 1., 1.])\n",
      "Last Column : tensor([1., 1., 1.])\n",
      "tensor([[1., 0., 1., 1.],\n",
      "        [1., 0., 1., 1.],\n",
      "        [1., 0., 1., 1.]])\n"
     ]
    }
   ],
   "source": [
    "tensor = tr.ones(3,4)\n",
    "\n",
    "print(f\"First row : {tensor[0,:]}\")\n",
    "print(f\"First column : {tensor[:,0]}\")\n",
    "print(f\"Last Column : {tensor[:,-1]}\")\n",
    "\n",
    "tensor[:,1] = 0\n",
    "print(tensor)"
   ]
  },
  {
   "cell_type": "code",
   "execution_count": 10,
   "id": "a39bd8ab",
   "metadata": {
    "execution": {
     "iopub.execute_input": "2023-07-21T10:15:07.831325Z",
     "iopub.status.busy": "2023-07-21T10:15:07.830925Z",
     "iopub.status.idle": "2023-07-21T10:15:07.838862Z",
     "shell.execute_reply": "2023-07-21T10:15:07.837771Z"
    },
    "papermill": {
     "duration": 0.016037,
     "end_time": "2023-07-21T10:15:07.840768",
     "exception": false,
     "start_time": "2023-07-21T10:15:07.824731",
     "status": "completed"
    },
    "tags": []
   },
   "outputs": [
    {
     "name": "stdout",
     "output_type": "stream",
     "text": [
      "tensor([[1., 0., 1., 1., 1., 0., 1., 1., 1., 0., 1., 1.],\n",
      "        [1., 0., 1., 1., 1., 0., 1., 1., 1., 0., 1., 1.],\n",
      "        [1., 0., 1., 1., 1., 0., 1., 1., 1., 0., 1., 1.]])\n"
     ]
    }
   ],
   "source": [
    "t1 = tr.cat([tensor, tensor, tensor], dim = 1)\n",
    "print(t1)"
   ]
  },
  {
   "cell_type": "code",
   "execution_count": 11,
   "id": "ca516463",
   "metadata": {
    "execution": {
     "iopub.execute_input": "2023-07-21T10:15:07.853256Z",
     "iopub.status.busy": "2023-07-21T10:15:07.852594Z",
     "iopub.status.idle": "2023-07-21T10:15:07.873676Z",
     "shell.execute_reply": "2023-07-21T10:15:07.872185Z"
    },
    "papermill": {
     "duration": 0.029844,
     "end_time": "2023-07-21T10:15:07.875978",
     "exception": false,
     "start_time": "2023-07-21T10:15:07.846134",
     "status": "completed"
    },
    "tags": []
   },
   "outputs": [
    {
     "name": "stdout",
     "output_type": "stream",
     "text": [
      "tensor([[3., 3., 3.],\n",
      "        [3., 3., 3.],\n",
      "        [3., 3., 3.]])\n",
      "tensor([[3., 3., 3.],\n",
      "        [3., 3., 3.],\n",
      "        [3., 3., 3.]])\n",
      "tensor([[0., 0., 0.],\n",
      "        [0., 0., 0.],\n",
      "        [0., 0., 0.]])\n",
      "tensor([[1., 0., 1., 1.],\n",
      "        [1., 0., 1., 1.],\n",
      "        [1., 0., 1., 1.]]) tensor([[1., 0., 1., 1.],\n",
      "        [1., 0., 1., 1.],\n",
      "        [1., 0., 1., 1.]]) tensor([[1., 0., 1., 1.],\n",
      "        [1., 0., 1., 1.],\n",
      "        [1., 0., 1., 1.]])\n"
     ]
    }
   ],
   "source": [
    "y1 = tensor @ tensor.T\n",
    "print(y1)\n",
    "\n",
    "y2 = tensor.matmul(tensor.T)\n",
    "print(y2)\n",
    "\n",
    "y3 = tr.zeros_like(y1)\n",
    "\n",
    "print(y3)\n",
    "\n",
    "tr.matmul(tensor, tensor.T, out = y3)\n",
    "\n",
    "z1 = tensor * tensor\n",
    "z2 = tensor.mul(tensor)\n",
    "\n",
    "z3 = tr.zeros_like(z1)\n",
    "tr.mul(tensor, tensor, out = z3)\n",
    "\n",
    "print(z1, z2, z3)"
   ]
  },
  {
   "cell_type": "code",
   "execution_count": 12,
   "id": "1c85de83",
   "metadata": {
    "execution": {
     "iopub.execute_input": "2023-07-21T10:15:07.888153Z",
     "iopub.status.busy": "2023-07-21T10:15:07.887755Z",
     "iopub.status.idle": "2023-07-21T10:15:07.895018Z",
     "shell.execute_reply": "2023-07-21T10:15:07.893749Z"
    },
    "papermill": {
     "duration": 0.015848,
     "end_time": "2023-07-21T10:15:07.897117",
     "exception": false,
     "start_time": "2023-07-21T10:15:07.881269",
     "status": "completed"
    },
    "tags": []
   },
   "outputs": [
    {
     "name": "stdout",
     "output_type": "stream",
     "text": [
      "tensor(9.)\n",
      "9.0\n",
      "<class 'float'>\n"
     ]
    }
   ],
   "source": [
    "agg = tensor.sum()\n",
    "\n",
    "print(agg)\n",
    "\n",
    "agg_item = agg.item()\n",
    "\n",
    "print(agg_item)\n",
    "\n",
    "print(type(agg_item))"
   ]
  },
  {
   "cell_type": "code",
   "execution_count": 13,
   "id": "87acc588",
   "metadata": {
    "execution": {
     "iopub.execute_input": "2023-07-21T10:15:07.909043Z",
     "iopub.status.busy": "2023-07-21T10:15:07.908669Z",
     "iopub.status.idle": "2023-07-21T10:15:07.916865Z",
     "shell.execute_reply": "2023-07-21T10:15:07.915766Z"
    },
    "papermill": {
     "duration": 0.016413,
     "end_time": "2023-07-21T10:15:07.918796",
     "exception": false,
     "start_time": "2023-07-21T10:15:07.902383",
     "status": "completed"
    },
    "tags": []
   },
   "outputs": [
    {
     "name": "stdout",
     "output_type": "stream",
     "text": [
      "tensor([[1., 0., 1., 1.],\n",
      "        [1., 0., 1., 1.],\n",
      "        [1., 0., 1., 1.]]) \n",
      "\n",
      "tensor([[6., 5., 6., 6.],\n",
      "        [6., 5., 6., 6.],\n",
      "        [6., 5., 6., 6.]])\n"
     ]
    }
   ],
   "source": [
    "print(tensor,\"\\n\")\n",
    "\n",
    "tensor.add_(5)\n",
    "\n",
    "print(tensor)"
   ]
  },
  {
   "cell_type": "code",
   "execution_count": 14,
   "id": "69c62332",
   "metadata": {
    "execution": {
     "iopub.execute_input": "2023-07-21T10:15:07.931330Z",
     "iopub.status.busy": "2023-07-21T10:15:07.930602Z",
     "iopub.status.idle": "2023-07-21T10:15:07.938544Z",
     "shell.execute_reply": "2023-07-21T10:15:07.937487Z"
    },
    "papermill": {
     "duration": 0.016265,
     "end_time": "2023-07-21T10:15:07.940335",
     "exception": false,
     "start_time": "2023-07-21T10:15:07.924070",
     "status": "completed"
    },
    "tags": []
   },
   "outputs": [
    {
     "name": "stdout",
     "output_type": "stream",
     "text": [
      "t : tensor([1., 1., 1., 1., 1.])\n",
      "n : [1. 1. 1. 1. 1.]\n"
     ]
    }
   ],
   "source": [
    "t = tr.ones(5)\n",
    "print(f\"t : {t}\")\n",
    "\n",
    "n = t.numpy()\n",
    "\n",
    "print(f\"n : {n}\")"
   ]
  },
  {
   "cell_type": "code",
   "execution_count": 15,
   "id": "98016efb",
   "metadata": {
    "execution": {
     "iopub.execute_input": "2023-07-21T10:15:07.953236Z",
     "iopub.status.busy": "2023-07-21T10:15:07.952877Z",
     "iopub.status.idle": "2023-07-21T10:15:07.958247Z",
     "shell.execute_reply": "2023-07-21T10:15:07.957556Z"
    },
    "papermill": {
     "duration": 0.014373,
     "end_time": "2023-07-21T10:15:07.960136",
     "exception": false,
     "start_time": "2023-07-21T10:15:07.945763",
     "status": "completed"
    },
    "tags": []
   },
   "outputs": [
    {
     "name": "stdout",
     "output_type": "stream",
     "text": [
      "tensor([3., 3., 3., 3., 3.]) \n",
      "\n",
      "[3. 3. 3. 3. 3.] \n",
      "\n"
     ]
    }
   ],
   "source": [
    "t.add_(2)\n",
    "print(t,\"\\n\")\n",
    "print(n,\"\\n\")"
   ]
  },
  {
   "cell_type": "code",
   "execution_count": 16,
   "id": "7ac8f76c",
   "metadata": {
    "execution": {
     "iopub.execute_input": "2023-07-21T10:15:07.972741Z",
     "iopub.status.busy": "2023-07-21T10:15:07.972203Z",
     "iopub.status.idle": "2023-07-21T10:15:07.979466Z",
     "shell.execute_reply": "2023-07-21T10:15:07.978629Z"
    },
    "papermill": {
     "duration": 0.015704,
     "end_time": "2023-07-21T10:15:07.981231",
     "exception": false,
     "start_time": "2023-07-21T10:15:07.965527",
     "status": "completed"
    },
    "tags": []
   },
   "outputs": [
    {
     "name": "stdout",
     "output_type": "stream",
     "text": [
      "n : [1. 1. 1. 1. 1.]\n",
      "t : tensor([1., 1., 1., 1., 1.], dtype=torch.float64)\n"
     ]
    }
   ],
   "source": [
    "n = np.ones(5)\n",
    "\n",
    "t = tr.from_numpy(n)\n",
    "\n",
    "print(f\"n : {n}\")\n",
    "print(f\"t : {t}\")"
   ]
  },
  {
   "cell_type": "code",
   "execution_count": 17,
   "id": "ec92eaad",
   "metadata": {
    "execution": {
     "iopub.execute_input": "2023-07-21T10:15:07.993983Z",
     "iopub.status.busy": "2023-07-21T10:15:07.993400Z",
     "iopub.status.idle": "2023-07-21T10:15:07.999699Z",
     "shell.execute_reply": "2023-07-21T10:15:07.998712Z"
    },
    "papermill": {
     "duration": 0.01482,
     "end_time": "2023-07-21T10:15:08.001501",
     "exception": false,
     "start_time": "2023-07-21T10:15:07.986681",
     "status": "completed"
    },
    "tags": []
   },
   "outputs": [
    {
     "name": "stdout",
     "output_type": "stream",
     "text": [
      "n : [2. 2. 2. 2. 2.]\n",
      "t : tensor([2., 2., 2., 2., 2.], dtype=torch.float64)\n"
     ]
    }
   ],
   "source": [
    "np.add(n, 1, out = n)\n",
    "\n",
    "print(f\"n : {n}\")\n",
    "print(f\"t : {t}\")"
   ]
  }
 ],
 "metadata": {
  "kernelspec": {
   "display_name": "Python 3",
   "language": "python",
   "name": "python3"
  },
  "language_info": {
   "codemirror_mode": {
    "name": "ipython",
    "version": 3
   },
   "file_extension": ".py",
   "mimetype": "text/x-python",
   "name": "python",
   "nbconvert_exporter": "python",
   "pygments_lexer": "ipython3",
   "version": "3.10.12"
  },
  "papermill": {
   "default_parameters": {},
   "duration": 13.559828,
   "end_time": "2023-07-21T10:15:09.228451",
   "environment_variables": {},
   "exception": null,
   "input_path": "__notebook__.ipynb",
   "output_path": "__notebook__.ipynb",
   "parameters": {},
   "start_time": "2023-07-21T10:14:55.668623",
   "version": "2.4.0"
  }
 },
 "nbformat": 4,
 "nbformat_minor": 5
}
