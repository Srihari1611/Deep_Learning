{
 "cells": [
  {
   "cell_type": "markdown",
   "id": "5fe35f6f",
   "metadata": {
    "papermill": {
     "duration": 0.005384,
     "end_time": "2023-07-25T10:56:57.856965",
     "exception": false,
     "start_time": "2023-07-25T10:56:57.851581",
     "status": "completed"
    },
    "tags": []
   },
   "source": [
    "# Optimizing Model Parameter"
   ]
  },
  {
   "cell_type": "markdown",
   "id": "a8296df8",
   "metadata": {
    "papermill": {
     "duration": 0.004388,
     "end_time": "2023-07-25T10:56:57.866275",
     "exception": false,
     "start_time": "2023-07-25T10:56:57.861887",
     "status": "completed"
    },
    "tags": []
   },
   "source": [
    "Imports"
   ]
  },
  {
   "cell_type": "code",
   "execution_count": 1,
   "id": "f9c58e77",
   "metadata": {
    "execution": {
     "iopub.execute_input": "2023-07-25T10:56:57.877884Z",
     "iopub.status.busy": "2023-07-25T10:56:57.877344Z",
     "iopub.status.idle": "2023-07-25T10:57:01.740389Z",
     "shell.execute_reply": "2023-07-25T10:57:01.739232Z"
    },
    "papermill": {
     "duration": 3.872566,
     "end_time": "2023-07-25T10:57:01.743457",
     "exception": false,
     "start_time": "2023-07-25T10:56:57.870891",
     "status": "completed"
    },
    "tags": []
   },
   "outputs": [],
   "source": [
    "import torch as tr\n",
    "from torch import nn\n",
    "from torch.utils.data import DataLoader\n",
    "from torchvision import datasets\n",
    "from torchvision.transforms import ToTensor"
   ]
  },
  {
   "cell_type": "code",
   "execution_count": 2,
   "id": "bc46a3a3",
   "metadata": {
    "execution": {
     "iopub.execute_input": "2023-07-25T10:57:01.756283Z",
     "iopub.status.busy": "2023-07-25T10:57:01.755625Z",
     "iopub.status.idle": "2023-07-25T10:57:20.537085Z",
     "shell.execute_reply": "2023-07-25T10:57:20.536208Z"
    },
    "papermill": {
     "duration": 18.791002,
     "end_time": "2023-07-25T10:57:20.540159",
     "exception": false,
     "start_time": "2023-07-25T10:57:01.749157",
     "status": "completed"
    },
    "tags": []
   },
   "outputs": [
    {
     "name": "stdout",
     "output_type": "stream",
     "text": [
      "Downloading http://fashion-mnist.s3-website.eu-central-1.amazonaws.com/train-images-idx3-ubyte.gz\n",
      "Downloading http://fashion-mnist.s3-website.eu-central-1.amazonaws.com/train-images-idx3-ubyte.gz to data/FashionMNIST/raw/train-images-idx3-ubyte.gz\n"
     ]
    },
    {
     "name": "stderr",
     "output_type": "stream",
     "text": [
      "100%|██████████| 26421880/26421880 [00:03<00:00, 6904541.83it/s] \n"
     ]
    },
    {
     "name": "stdout",
     "output_type": "stream",
     "text": [
      "Extracting data/FashionMNIST/raw/train-images-idx3-ubyte.gz to data/FashionMNIST/raw\n",
      "\n",
      "Downloading http://fashion-mnist.s3-website.eu-central-1.amazonaws.com/train-labels-idx1-ubyte.gz\n",
      "Downloading http://fashion-mnist.s3-website.eu-central-1.amazonaws.com/train-labels-idx1-ubyte.gz to data/FashionMNIST/raw/train-labels-idx1-ubyte.gz\n"
     ]
    },
    {
     "name": "stderr",
     "output_type": "stream",
     "text": [
      "100%|██████████| 29515/29515 [00:00<00:00, 115589.85it/s]\n"
     ]
    },
    {
     "name": "stdout",
     "output_type": "stream",
     "text": [
      "Extracting data/FashionMNIST/raw/train-labels-idx1-ubyte.gz to data/FashionMNIST/raw\n",
      "\n",
      "Downloading http://fashion-mnist.s3-website.eu-central-1.amazonaws.com/t10k-images-idx3-ubyte.gz\n",
      "Downloading http://fashion-mnist.s3-website.eu-central-1.amazonaws.com/t10k-images-idx3-ubyte.gz to data/FashionMNIST/raw/t10k-images-idx3-ubyte.gz\n"
     ]
    },
    {
     "name": "stderr",
     "output_type": "stream",
     "text": [
      "100%|██████████| 4422102/4422102 [00:09<00:00, 479637.13it/s] \n"
     ]
    },
    {
     "name": "stdout",
     "output_type": "stream",
     "text": [
      "Extracting data/FashionMNIST/raw/t10k-images-idx3-ubyte.gz to data/FashionMNIST/raw\n",
      "\n",
      "Downloading http://fashion-mnist.s3-website.eu-central-1.amazonaws.com/t10k-labels-idx1-ubyte.gz\n",
      "Downloading http://fashion-mnist.s3-website.eu-central-1.amazonaws.com/t10k-labels-idx1-ubyte.gz to data/FashionMNIST/raw/t10k-labels-idx1-ubyte.gz\n"
     ]
    },
    {
     "name": "stderr",
     "output_type": "stream",
     "text": [
      "100%|██████████| 5148/5148 [00:00<00:00, 9283008.17it/s]"
     ]
    },
    {
     "name": "stdout",
     "output_type": "stream",
     "text": [
      "Extracting data/FashionMNIST/raw/t10k-labels-idx1-ubyte.gz to data/FashionMNIST/raw\n",
      "\n"
     ]
    },
    {
     "name": "stderr",
     "output_type": "stream",
     "text": [
      "\n"
     ]
    }
   ],
   "source": [
    "training_data = datasets.FashionMNIST(\n",
    "root = \"data\",\n",
    "train = True,\n",
    "download = True,\n",
    "transform = ToTensor()\n",
    ")"
   ]
  },
  {
   "cell_type": "code",
   "execution_count": 3,
   "id": "6c297b89",
   "metadata": {
    "execution": {
     "iopub.execute_input": "2023-07-25T10:57:20.564059Z",
     "iopub.status.busy": "2023-07-25T10:57:20.563642Z",
     "iopub.status.idle": "2023-07-25T10:57:20.579648Z",
     "shell.execute_reply": "2023-07-25T10:57:20.578778Z"
    },
    "papermill": {
     "duration": 0.030657,
     "end_time": "2023-07-25T10:57:20.582021",
     "exception": false,
     "start_time": "2023-07-25T10:57:20.551364",
     "status": "completed"
    },
    "tags": []
   },
   "outputs": [],
   "source": [
    "test_data = datasets.FashionMNIST(\n",
    "root= \"data\",\n",
    "train = False,\n",
    "download = True,\n",
    "transform = ToTensor()\n",
    ")"
   ]
  },
  {
   "cell_type": "code",
   "execution_count": 4,
   "id": "25284bc1",
   "metadata": {
    "execution": {
     "iopub.execute_input": "2023-07-25T10:57:20.606345Z",
     "iopub.status.busy": "2023-07-25T10:57:20.605522Z",
     "iopub.status.idle": "2023-07-25T10:57:20.611967Z",
     "shell.execute_reply": "2023-07-25T10:57:20.610833Z"
    },
    "papermill": {
     "duration": 0.021333,
     "end_time": "2023-07-25T10:57:20.614456",
     "exception": false,
     "start_time": "2023-07-25T10:57:20.593123",
     "status": "completed"
    },
    "tags": []
   },
   "outputs": [],
   "source": [
    "training_dataloader = DataLoader(training_data, batch_size = 64)\n",
    "testing_dataloader = DataLoader(test_data, batch_size = 64)"
   ]
  },
  {
   "cell_type": "code",
   "execution_count": 5,
   "id": "2b3c5dd2",
   "metadata": {
    "execution": {
     "iopub.execute_input": "2023-07-25T10:57:20.639521Z",
     "iopub.status.busy": "2023-07-25T10:57:20.639137Z",
     "iopub.status.idle": "2023-07-25T10:57:20.646813Z",
     "shell.execute_reply": "2023-07-25T10:57:20.645673Z"
    },
    "papermill": {
     "duration": 0.023916,
     "end_time": "2023-07-25T10:57:20.649292",
     "exception": false,
     "start_time": "2023-07-25T10:57:20.625376",
     "status": "completed"
    },
    "tags": []
   },
   "outputs": [],
   "source": [
    "class neuralnetwork(nn.Module):\n",
    "    def __init__(self):\n",
    "        super().__init__()\n",
    "        self.flatten = nn.Flatten()\n",
    "        self.linear_relu_stack= nn.Sequential(\n",
    "        nn.Linear(28*28, 512),\n",
    "        nn.ReLU(),\n",
    "        nn.Linear(512, 512),\n",
    "        nn.ReLU(),\n",
    "        nn.Linear(512, 10)\n",
    "        )\n",
    "        \n",
    "    def forward(self, x):\n",
    "        x = self.flatten(x)\n",
    "        logits = self.linear_relu_stack(x)\n",
    "        return logits"
   ]
  },
  {
   "cell_type": "code",
   "execution_count": 6,
   "id": "340cc587",
   "metadata": {
    "execution": {
     "iopub.execute_input": "2023-07-25T10:57:20.673452Z",
     "iopub.status.busy": "2023-07-25T10:57:20.673050Z",
     "iopub.status.idle": "2023-07-25T10:57:20.692982Z",
     "shell.execute_reply": "2023-07-25T10:57:20.691795Z"
    },
    "papermill": {
     "duration": 0.035053,
     "end_time": "2023-07-25T10:57:20.695610",
     "exception": false,
     "start_time": "2023-07-25T10:57:20.660557",
     "status": "completed"
    },
    "tags": []
   },
   "outputs": [],
   "source": [
    "model = neuralnetwork()"
   ]
  },
  {
   "cell_type": "code",
   "execution_count": 7,
   "id": "c56e0b90",
   "metadata": {
    "execution": {
     "iopub.execute_input": "2023-07-25T10:57:20.721636Z",
     "iopub.status.busy": "2023-07-25T10:57:20.720860Z",
     "iopub.status.idle": "2023-07-25T10:57:20.725736Z",
     "shell.execute_reply": "2023-07-25T10:57:20.724798Z"
    },
    "papermill": {
     "duration": 0.021337,
     "end_time": "2023-07-25T10:57:20.727939",
     "exception": false,
     "start_time": "2023-07-25T10:57:20.706602",
     "status": "completed"
    },
    "tags": []
   },
   "outputs": [],
   "source": [
    "learning_rate = 1e-3\n",
    "batch_size = 64\n",
    "no_of_epochs = 5"
   ]
  },
  {
   "cell_type": "code",
   "execution_count": 8,
   "id": "c39716df",
   "metadata": {
    "execution": {
     "iopub.execute_input": "2023-07-25T10:57:20.752167Z",
     "iopub.status.busy": "2023-07-25T10:57:20.751395Z",
     "iopub.status.idle": "2023-07-25T10:57:20.756385Z",
     "shell.execute_reply": "2023-07-25T10:57:20.755231Z"
    },
    "papermill": {
     "duration": 0.019891,
     "end_time": "2023-07-25T10:57:20.758843",
     "exception": false,
     "start_time": "2023-07-25T10:57:20.738952",
     "status": "completed"
    },
    "tags": []
   },
   "outputs": [],
   "source": [
    "loss_fun = nn.CrossEntropyLoss()"
   ]
  },
  {
   "cell_type": "code",
   "execution_count": 9,
   "id": "53c69c4c",
   "metadata": {
    "execution": {
     "iopub.execute_input": "2023-07-25T10:57:20.782802Z",
     "iopub.status.busy": "2023-07-25T10:57:20.782325Z",
     "iopub.status.idle": "2023-07-25T10:57:20.787897Z",
     "shell.execute_reply": "2023-07-25T10:57:20.786836Z"
    },
    "papermill": {
     "duration": 0.020163,
     "end_time": "2023-07-25T10:57:20.790064",
     "exception": false,
     "start_time": "2023-07-25T10:57:20.769901",
     "status": "completed"
    },
    "tags": []
   },
   "outputs": [],
   "source": [
    "optimizer = tr.optim.SGD(model.parameters(), lr = learning_rate)"
   ]
  },
  {
   "cell_type": "code",
   "execution_count": 10,
   "id": "a39366d3",
   "metadata": {
    "execution": {
     "iopub.execute_input": "2023-07-25T10:57:20.814695Z",
     "iopub.status.busy": "2023-07-25T10:57:20.814008Z",
     "iopub.status.idle": "2023-07-25T10:57:20.824152Z",
     "shell.execute_reply": "2023-07-25T10:57:20.823134Z"
    },
    "papermill": {
     "duration": 0.025238,
     "end_time": "2023-07-25T10:57:20.826580",
     "exception": false,
     "start_time": "2023-07-25T10:57:20.801342",
     "status": "completed"
    },
    "tags": []
   },
   "outputs": [],
   "source": [
    "def training(dataloader, model, loss_fun, optimizer):\n",
    "    size = len(dataloader.dataset)\n",
    "    \n",
    "    model.train()\n",
    "    for batch, (X, y) in enumerate(dataloader):\n",
    "        pred = model(X)\n",
    "        loss = loss_fun(pred, y)\n",
    "        \n",
    "        loss.backward()\n",
    "        optimizer.step()\n",
    "        optimizer.zero_grad()\n",
    "        \n",
    "        if batch % 100 == 0:\n",
    "            loss, current = loss.item(), (batch+1)*len(X)\n",
    "            print(f\"Loss : {loss} [{current}/{size}]\")\n",
    "            \n",
    "def testing(dataloader, model, loss_fun):\n",
    "    \n",
    "    model.eval()\n",
    "    size = len(dataloader.dataset)\n",
    "    num_of_batches = len(dataloader)\n",
    "    test_loss, correct = 0,0\n",
    "    \n",
    "    with tr.no_grad():\n",
    "        for X, y in dataloader:\n",
    "            pred = model(X)\n",
    "            test_loss+=loss_fun(pred, y).item()\n",
    "            correct += (pred.argmax(1) == y).type(tr.float).sum().item()\n",
    "            \n",
    "    test_loss/=num_of_batches\n",
    "    correct /=size\n",
    "    \n",
    "    print(f\"Test Error : \\n Accuracy : {100*correct}, Avg Loss : {test_loss}\\n\")\n",
    "            "
   ]
  },
  {
   "cell_type": "code",
   "execution_count": 11,
   "id": "80bd43ba",
   "metadata": {
    "execution": {
     "iopub.execute_input": "2023-07-25T10:57:20.850005Z",
     "iopub.status.busy": "2023-07-25T10:57:20.849569Z",
     "iopub.status.idle": "2023-07-25T10:59:16.436878Z",
     "shell.execute_reply": "2023-07-25T10:59:16.435600Z"
    },
    "papermill": {
     "duration": 115.602043,
     "end_time": "2023-07-25T10:59:16.439527",
     "exception": false,
     "start_time": "2023-07-25T10:57:20.837484",
     "status": "completed"
    },
    "tags": []
   },
   "outputs": [
    {
     "name": "stdout",
     "output_type": "stream",
     "text": [
      "Epochs 1 \n",
      "Loss : 2.29335618019104 [64/60000]\n",
      "Loss : 2.285046339035034 [6464/60000]\n",
      "Loss : 2.2726991176605225 [12864/60000]\n",
      "Loss : 2.2692651748657227 [19264/60000]\n",
      "Loss : 2.252596378326416 [25664/60000]\n",
      "Loss : 2.2164578437805176 [32064/60000]\n",
      "Loss : 2.2228970527648926 [38464/60000]\n",
      "Loss : 2.1846437454223633 [44864/60000]\n",
      "Loss : 2.1958818435668945 [51264/60000]\n",
      "Loss : 2.166344404220581 [57664/60000]\n",
      "Test Error : \n",
      " Accuracy : 46.26, Avg Loss : 2.1556946806087613\n",
      "\n",
      "Epochs 2 \n",
      "Loss : 2.1629228591918945 [64/60000]\n",
      "Loss : 2.156506061553955 [6464/60000]\n",
      "Loss : 2.1023237705230713 [12864/60000]\n",
      "Loss : 2.120203733444214 [19264/60000]\n",
      "Loss : 2.0681474208831787 [25664/60000]\n",
      "Loss : 2.0012028217315674 [32064/60000]\n",
      "Loss : 2.035541534423828 [38464/60000]\n",
      "Loss : 1.9520460367202759 [44864/60000]\n",
      "Loss : 1.979498028755188 [51264/60000]\n",
      "Loss : 1.9009594917297363 [57664/60000]\n",
      "Test Error : \n",
      " Accuracy : 57.830000000000005, Avg Loss : 1.8938948045111006\n",
      "\n",
      "Epochs 3 \n",
      "Loss : 1.9286490678787231 [64/60000]\n",
      "Loss : 1.900071620941162 [6464/60000]\n",
      "Loss : 1.7863599061965942 [12864/60000]\n",
      "Loss : 1.825237512588501 [19264/60000]\n",
      "Loss : 1.7098729610443115 [25664/60000]\n",
      "Loss : 1.6573841571807861 [32064/60000]\n",
      "Loss : 1.6846592426300049 [38464/60000]\n",
      "Loss : 1.5797412395477295 [44864/60000]\n",
      "Loss : 1.622937560081482 [51264/60000]\n",
      "Loss : 1.5136295557022095 [57664/60000]\n",
      "Test Error : \n",
      " Accuracy : 59.97, Avg Loss : 1.5269760181949397\n",
      "\n",
      "Epochs 4 \n",
      "Loss : 1.5932073593139648 [64/60000]\n",
      "Loss : 1.5629554986953735 [6464/60000]\n",
      "Loss : 1.4155044555664062 [12864/60000]\n",
      "Loss : 1.4835472106933594 [19264/60000]\n",
      "Loss : 1.353369116783142 [25664/60000]\n",
      "Loss : 1.3507646322250366 [32064/60000]\n",
      "Loss : 1.3648440837860107 [38464/60000]\n",
      "Loss : 1.2861934900283813 [44864/60000]\n",
      "Loss : 1.333492636680603 [51264/60000]\n",
      "Loss : 1.2374324798583984 [57664/60000]\n",
      "Test Error : \n",
      " Accuracy : 63.0, Avg Loss : 1.2581458524533897\n",
      "\n",
      "Epochs 5 \n",
      "Loss : 1.330541968345642 [64/60000]\n",
      "Loss : 1.319898009300232 [6464/60000]\n",
      "Loss : 1.1581991910934448 [12864/60000]\n",
      "Loss : 1.26103675365448 [19264/60000]\n",
      "Loss : 1.1225614547729492 [25664/60000]\n",
      "Loss : 1.1505084037780762 [32064/60000]\n",
      "Loss : 1.1716610193252563 [38464/60000]\n",
      "Loss : 1.1052696704864502 [44864/60000]\n",
      "Loss : 1.1579142808914185 [51264/60000]\n",
      "Loss : 1.0780853033065796 [57664/60000]\n",
      "Test Error : \n",
      " Accuracy : 64.7, Avg Loss : 1.0929594267705443\n",
      "\n",
      "Epochs 6 \n",
      "Loss : 1.1591309309005737 [64/60000]\n",
      "Loss : 1.1672576665878296 [6464/60000]\n",
      "Loss : 0.9901668429374695 [12864/60000]\n",
      "Loss : 1.1228704452514648 [19264/60000]\n",
      "Loss : 0.9842395186424255 [25664/60000]\n",
      "Loss : 1.0167546272277832 [32064/60000]\n",
      "Loss : 1.0541625022888184 [38464/60000]\n",
      "Loss : 0.9903788566589355 [44864/60000]\n",
      "Loss : 1.0447293519973755 [51264/60000]\n",
      "Loss : 0.9781184792518616 [57664/60000]\n",
      "Test Error : \n",
      " Accuracy : 66.31, Avg Loss : 0.9860246424462386\n",
      "\n",
      "Epochs 7 \n",
      "Loss : 1.0403690338134766 [64/60000]\n",
      "Loss : 1.0677194595336914 [6464/60000]\n",
      "Loss : 0.8743454813957214 [12864/60000]\n",
      "Loss : 1.0297952890396118 [19264/60000]\n",
      "Loss : 0.8981688022613525 [25664/60000]\n",
      "Loss : 0.9220224022865295 [32064/60000]\n",
      "Loss : 0.9769443869590759 [38464/60000]\n",
      "Loss : 0.9143176674842834 [44864/60000]\n",
      "Loss : 0.9652224779129028 [51264/60000]\n",
      "Loss : 0.9096360802650452 [57664/60000]\n",
      "Test Error : \n",
      " Accuracy : 67.51, Avg Loss : 0.9120662781842954\n",
      "\n",
      "Epochs 8 \n",
      "Loss : 0.9517050385475159 [64/60000]\n",
      "Loss : 0.9976630210876465 [6464/60000]\n",
      "Loss : 0.7900140881538391 [12864/60000]\n",
      "Loss : 0.9630160331726074 [19264/60000]\n",
      "Loss : 0.8406407237052917 [25664/60000]\n",
      "Loss : 0.8520920276641846 [32064/60000]\n",
      "Loss : 0.9220141172409058 [38464/60000]\n",
      "Loss : 0.8621158003807068 [44864/60000]\n",
      "Loss : 0.9065091013908386 [51264/60000]\n",
      "Loss : 0.8591879606246948 [57664/60000]\n",
      "Test Error : \n",
      " Accuracy : 68.91000000000001, Avg Loss : 0.8579452743955479\n",
      "\n",
      "Epochs 9 \n",
      "Loss : 0.8826716542243958 [64/60000]\n",
      "Loss : 0.9445586800575256 [6464/60000]\n",
      "Loss : 0.7260616421699524 [12864/60000]\n",
      "Loss : 0.9126008152961731 [19264/60000]\n",
      "Loss : 0.7997335195541382 [25664/60000]\n",
      "Loss : 0.7991979122161865 [32064/60000]\n",
      "Loss : 0.880195677280426 [38464/60000]\n",
      "Loss : 0.8251412510871887 [44864/60000]\n",
      "Loss : 0.8620273470878601 [51264/60000]\n",
      "Loss : 0.8200401067733765 [57664/60000]\n",
      "Test Error : \n",
      " Accuracy : 70.41, Avg Loss : 0.8166074984392543\n",
      "\n",
      "Epochs 10 \n",
      "Loss : 0.8270030617713928 [64/60000]\n",
      "Loss : 0.9019002914428711 [6464/60000]\n",
      "Loss : 0.6759353280067444 [12864/60000]\n",
      "Loss : 0.8735299110412598 [19264/60000]\n",
      "Loss : 0.7686702609062195 [25664/60000]\n",
      "Loss : 0.7584874033927917 [32064/60000]\n",
      "Loss : 0.8459668755531311 [38464/60000]\n",
      "Loss : 0.7973419427871704 [44864/60000]\n",
      "Loss : 0.8270816802978516 [51264/60000]\n",
      "Loss : 0.7884024977684021 [57664/60000]\n",
      "Test Error : \n",
      " Accuracy : 71.71, Avg Loss : 0.783738377367615\n",
      "\n",
      "Done\n"
     ]
    }
   ],
   "source": [
    "loss_fun = nn.CrossEntropyLoss()\n",
    "optimizer = tr.optim.SGD(model.parameters(), lr = learning_rate)\n",
    "\n",
    "epochs = 10\n",
    "\n",
    "for t in range(epochs):\n",
    "    print(f\"Epochs {t+1} \")\n",
    "    training(training_dataloader, model, loss_fun, optimizer)\n",
    "    testing(testing_dataloader, model, loss_fun)\n",
    "    \n",
    "print(\"Done\")"
   ]
  }
 ],
 "metadata": {
  "kernelspec": {
   "display_name": "Python 3",
   "language": "python",
   "name": "python3"
  },
  "language_info": {
   "codemirror_mode": {
    "name": "ipython",
    "version": 3
   },
   "file_extension": ".py",
   "mimetype": "text/x-python",
   "name": "python",
   "nbconvert_exporter": "python",
   "pygments_lexer": "ipython3",
   "version": "3.10.12"
  },
  "papermill": {
   "default_parameters": {},
   "duration": 151.206148,
   "end_time": "2023-07-25T10:59:17.884118",
   "environment_variables": {},
   "exception": null,
   "input_path": "__notebook__.ipynb",
   "output_path": "__notebook__.ipynb",
   "parameters": {},
   "start_time": "2023-07-25T10:56:46.677970",
   "version": "2.4.0"
  }
 },
 "nbformat": 4,
 "nbformat_minor": 5
}
