{
 "cells": [
  {
   "cell_type": "markdown",
   "id": "fffec077",
   "metadata": {
    "papermill": {
     "duration": 0.005036,
     "end_time": "2023-07-26T05:38:41.572523",
     "exception": false,
     "start_time": "2023-07-26T05:38:41.567487",
     "status": "completed"
    },
    "tags": []
   },
   "source": [
    "# Save and Load Model"
   ]
  },
  {
   "cell_type": "markdown",
   "id": "204f4905",
   "metadata": {
    "papermill": {
     "duration": 0.003688,
     "end_time": "2023-07-26T05:38:41.580956",
     "exception": false,
     "start_time": "2023-07-26T05:38:41.577268",
     "status": "completed"
    },
    "tags": []
   },
   "source": [
    "Imports"
   ]
  },
  {
   "cell_type": "code",
   "execution_count": 1,
   "id": "c8149a3b",
   "metadata": {
    "execution": {
     "iopub.execute_input": "2023-07-26T05:38:41.589674Z",
     "iopub.status.busy": "2023-07-26T05:38:41.589137Z",
     "iopub.status.idle": "2023-07-26T05:38:45.954637Z",
     "shell.execute_reply": "2023-07-26T05:38:45.953351Z"
    },
    "papermill": {
     "duration": 4.373226,
     "end_time": "2023-07-26T05:38:45.957518",
     "exception": false,
     "start_time": "2023-07-26T05:38:41.584292",
     "status": "completed"
    },
    "tags": []
   },
   "outputs": [],
   "source": [
    "import torch as tr\n",
    "import torchvision.models as models"
   ]
  },
  {
   "cell_type": "code",
   "execution_count": 2,
   "id": "4972a1c8",
   "metadata": {
    "execution": {
     "iopub.execute_input": "2023-07-26T05:38:45.967755Z",
     "iopub.status.busy": "2023-07-26T05:38:45.966220Z",
     "iopub.status.idle": "2023-07-26T05:38:51.362234Z",
     "shell.execute_reply": "2023-07-26T05:38:51.360901Z"
    },
    "papermill": {
     "duration": 5.404505,
     "end_time": "2023-07-26T05:38:51.365742",
     "exception": false,
     "start_time": "2023-07-26T05:38:45.961237",
     "status": "completed"
    },
    "tags": []
   },
   "outputs": [
    {
     "name": "stderr",
     "output_type": "stream",
     "text": [
      "Downloading: \"https://download.pytorch.org/models/vgg16-397923af.pth\" to /root/.cache/torch/hub/checkpoints/vgg16-397923af.pth\n",
      "100%|██████████| 528M/528M [00:02<00:00, 226MB/s]\n"
     ]
    }
   ],
   "source": [
    "model = models.vgg16(weights = \"IMAGENET1K_V1\")\n",
    "tr.save(model.state_dict(), 'model_weights.pth')"
   ]
  },
  {
   "cell_type": "code",
   "execution_count": 3,
   "id": "3cd220ef",
   "metadata": {
    "execution": {
     "iopub.execute_input": "2023-07-26T05:38:51.381828Z",
     "iopub.status.busy": "2023-07-26T05:38:51.380738Z",
     "iopub.status.idle": "2023-07-26T05:38:54.638842Z",
     "shell.execute_reply": "2023-07-26T05:38:54.637542Z"
    },
    "papermill": {
     "duration": 3.268611,
     "end_time": "2023-07-26T05:38:54.641754",
     "exception": false,
     "start_time": "2023-07-26T05:38:51.373143",
     "status": "completed"
    },
    "tags": []
   },
   "outputs": [
    {
     "data": {
      "text/plain": [
       "VGG(\n",
       "  (features): Sequential(\n",
       "    (0): Conv2d(3, 64, kernel_size=(3, 3), stride=(1, 1), padding=(1, 1))\n",
       "    (1): ReLU(inplace=True)\n",
       "    (2): Conv2d(64, 64, kernel_size=(3, 3), stride=(1, 1), padding=(1, 1))\n",
       "    (3): ReLU(inplace=True)\n",
       "    (4): MaxPool2d(kernel_size=2, stride=2, padding=0, dilation=1, ceil_mode=False)\n",
       "    (5): Conv2d(64, 128, kernel_size=(3, 3), stride=(1, 1), padding=(1, 1))\n",
       "    (6): ReLU(inplace=True)\n",
       "    (7): Conv2d(128, 128, kernel_size=(3, 3), stride=(1, 1), padding=(1, 1))\n",
       "    (8): ReLU(inplace=True)\n",
       "    (9): MaxPool2d(kernel_size=2, stride=2, padding=0, dilation=1, ceil_mode=False)\n",
       "    (10): Conv2d(128, 256, kernel_size=(3, 3), stride=(1, 1), padding=(1, 1))\n",
       "    (11): ReLU(inplace=True)\n",
       "    (12): Conv2d(256, 256, kernel_size=(3, 3), stride=(1, 1), padding=(1, 1))\n",
       "    (13): ReLU(inplace=True)\n",
       "    (14): Conv2d(256, 256, kernel_size=(3, 3), stride=(1, 1), padding=(1, 1))\n",
       "    (15): ReLU(inplace=True)\n",
       "    (16): MaxPool2d(kernel_size=2, stride=2, padding=0, dilation=1, ceil_mode=False)\n",
       "    (17): Conv2d(256, 512, kernel_size=(3, 3), stride=(1, 1), padding=(1, 1))\n",
       "    (18): ReLU(inplace=True)\n",
       "    (19): Conv2d(512, 512, kernel_size=(3, 3), stride=(1, 1), padding=(1, 1))\n",
       "    (20): ReLU(inplace=True)\n",
       "    (21): Conv2d(512, 512, kernel_size=(3, 3), stride=(1, 1), padding=(1, 1))\n",
       "    (22): ReLU(inplace=True)\n",
       "    (23): MaxPool2d(kernel_size=2, stride=2, padding=0, dilation=1, ceil_mode=False)\n",
       "    (24): Conv2d(512, 512, kernel_size=(3, 3), stride=(1, 1), padding=(1, 1))\n",
       "    (25): ReLU(inplace=True)\n",
       "    (26): Conv2d(512, 512, kernel_size=(3, 3), stride=(1, 1), padding=(1, 1))\n",
       "    (27): ReLU(inplace=True)\n",
       "    (28): Conv2d(512, 512, kernel_size=(3, 3), stride=(1, 1), padding=(1, 1))\n",
       "    (29): ReLU(inplace=True)\n",
       "    (30): MaxPool2d(kernel_size=2, stride=2, padding=0, dilation=1, ceil_mode=False)\n",
       "  )\n",
       "  (avgpool): AdaptiveAvgPool2d(output_size=(7, 7))\n",
       "  (classifier): Sequential(\n",
       "    (0): Linear(in_features=25088, out_features=4096, bias=True)\n",
       "    (1): ReLU(inplace=True)\n",
       "    (2): Dropout(p=0.5, inplace=False)\n",
       "    (3): Linear(in_features=4096, out_features=4096, bias=True)\n",
       "    (4): ReLU(inplace=True)\n",
       "    (5): Dropout(p=0.5, inplace=False)\n",
       "    (6): Linear(in_features=4096, out_features=1000, bias=True)\n",
       "  )\n",
       ")"
      ]
     },
     "execution_count": 3,
     "metadata": {},
     "output_type": "execute_result"
    }
   ],
   "source": [
    "model = models.vgg16()\n",
    "model.load_state_dict(tr.load(\"model_weights.pth\"))\n",
    "model.eval()"
   ]
  },
  {
   "cell_type": "code",
   "execution_count": 4,
   "id": "fb7b38f4",
   "metadata": {
    "execution": {
     "iopub.execute_input": "2023-07-26T05:38:54.656437Z",
     "iopub.status.busy": "2023-07-26T05:38:54.655657Z",
     "iopub.status.idle": "2023-07-26T05:38:55.347360Z",
     "shell.execute_reply": "2023-07-26T05:38:55.346426Z"
    },
    "papermill": {
     "duration": 0.702076,
     "end_time": "2023-07-26T05:38:55.350004",
     "exception": false,
     "start_time": "2023-07-26T05:38:54.647928",
     "status": "completed"
    },
    "tags": []
   },
   "outputs": [],
   "source": [
    "tr.save(model, \"model.pth\")"
   ]
  },
  {
   "cell_type": "code",
   "execution_count": 5,
   "id": "ee594be8",
   "metadata": {
    "execution": {
     "iopub.execute_input": "2023-07-26T05:38:55.364636Z",
     "iopub.status.busy": "2023-07-26T05:38:55.363863Z",
     "iopub.status.idle": "2023-07-26T05:38:55.801991Z",
     "shell.execute_reply": "2023-07-26T05:38:55.800528Z"
    },
    "papermill": {
     "duration": 0.448329,
     "end_time": "2023-07-26T05:38:55.804659",
     "exception": false,
     "start_time": "2023-07-26T05:38:55.356330",
     "status": "completed"
    },
    "tags": []
   },
   "outputs": [],
   "source": [
    "model = tr.load(\"model.pth\")"
   ]
  }
 ],
 "metadata": {
  "kernelspec": {
   "display_name": "Python 3",
   "language": "python",
   "name": "python3"
  },
  "language_info": {
   "codemirror_mode": {
    "name": "ipython",
    "version": 3
   },
   "file_extension": ".py",
   "mimetype": "text/x-python",
   "name": "python",
   "nbconvert_exporter": "python",
   "pygments_lexer": "ipython3",
   "version": "3.10.12"
  },
  "papermill": {
   "default_parameters": {},
   "duration": 28.801913,
   "end_time": "2023-07-26T05:38:58.219132",
   "environment_variables": {},
   "exception": null,
   "input_path": "__notebook__.ipynb",
   "output_path": "__notebook__.ipynb",
   "parameters": {},
   "start_time": "2023-07-26T05:38:29.417219",
   "version": "2.4.0"
  }
 },
 "nbformat": 4,
 "nbformat_minor": 5
}
