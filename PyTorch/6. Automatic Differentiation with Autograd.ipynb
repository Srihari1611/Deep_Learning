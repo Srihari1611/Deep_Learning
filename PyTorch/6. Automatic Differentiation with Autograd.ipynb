{
 "cells": [
  {
   "cell_type": "markdown",
   "id": "571d3591",
   "metadata": {
    "papermill": {
     "duration": 0.004303,
     "end_time": "2023-07-25T08:21:58.232316",
     "exception": false,
     "start_time": "2023-07-25T08:21:58.228013",
     "status": "completed"
    },
    "tags": []
   },
   "source": [
    "# AutoGrad"
   ]
  },
  {
   "cell_type": "markdown",
   "id": "ae3e9f66",
   "metadata": {
    "papermill": {
     "duration": 0.003351,
     "end_time": "2023-07-25T08:21:58.239559",
     "exception": false,
     "start_time": "2023-07-25T08:21:58.236208",
     "status": "completed"
    },
    "tags": []
   },
   "source": [
    "imports"
   ]
  },
  {
   "cell_type": "code",
   "execution_count": 1,
   "id": "6c5c6120",
   "metadata": {
    "execution": {
     "iopub.execute_input": "2023-07-25T08:21:58.248965Z",
     "iopub.status.busy": "2023-07-25T08:21:58.248428Z",
     "iopub.status.idle": "2023-07-25T08:22:01.956949Z",
     "shell.execute_reply": "2023-07-25T08:22:01.955689Z"
    },
    "papermill": {
     "duration": 3.717074,
     "end_time": "2023-07-25T08:22:01.960321",
     "exception": false,
     "start_time": "2023-07-25T08:21:58.243247",
     "status": "completed"
    },
    "tags": []
   },
   "outputs": [],
   "source": [
    "import torch as tr"
   ]
  },
  {
   "cell_type": "code",
   "execution_count": 2,
   "id": "010dc0bb",
   "metadata": {
    "execution": {
     "iopub.execute_input": "2023-07-25T08:22:01.970160Z",
     "iopub.status.busy": "2023-07-25T08:22:01.969473Z",
     "iopub.status.idle": "2023-07-25T08:22:02.139329Z",
     "shell.execute_reply": "2023-07-25T08:22:02.137857Z"
    },
    "papermill": {
     "duration": 0.178351,
     "end_time": "2023-07-25T08:22:02.142623",
     "exception": false,
     "start_time": "2023-07-25T08:22:01.964272",
     "status": "completed"
    },
    "tags": []
   },
   "outputs": [
    {
     "name": "stdout",
     "output_type": "stream",
     "text": [
      "tensor(-0.1033, grad_fn=<MeanBackward0>) tensor(1.1535, grad_fn=<VarBackward0>)\n"
     ]
    }
   ],
   "source": [
    "x = tr.ones(5)\n",
    "y = tr.zeros(3)\n",
    "w = tr.randn(5,3, requires_grad = True)\n",
    "#print(w)\n",
    "print(w.mean(), w.var())\n",
    "b = tr.randn(3,requires_grad = True)\n",
    "z = tr.matmul(x,w)+b\n",
    "loss = tr.nn.functional.binary_cross_entropy_with_logits(z,y)"
   ]
  },
  {
   "cell_type": "code",
   "execution_count": 3,
   "id": "df03c0b4",
   "metadata": {
    "execution": {
     "iopub.execute_input": "2023-07-25T08:22:02.152586Z",
     "iopub.status.busy": "2023-07-25T08:22:02.152196Z",
     "iopub.status.idle": "2023-07-25T08:22:02.158431Z",
     "shell.execute_reply": "2023-07-25T08:22:02.157050Z"
    },
    "papermill": {
     "duration": 0.013985,
     "end_time": "2023-07-25T08:22:02.160737",
     "exception": false,
     "start_time": "2023-07-25T08:22:02.146752",
     "status": "completed"
    },
    "tags": []
   },
   "outputs": [
    {
     "name": "stdout",
     "output_type": "stream",
     "text": [
      "Gradient fun for z manual init : <AddBackward0 object at 0x78255b9d3580>\n",
      "Gradient fun for loss manual init : <BinaryCrossEntropyWithLogitsBackward0 object at 0x78255b9d24d0>\n"
     ]
    }
   ],
   "source": [
    "print(f\"Gradient fun for z manual init : {z.grad_fn}\")\n",
    "print(f\"Gradient fun for loss manual init : {loss.grad_fn}\")"
   ]
  },
  {
   "cell_type": "code",
   "execution_count": 4,
   "id": "f6037e97",
   "metadata": {
    "execution": {
     "iopub.execute_input": "2023-07-25T08:22:02.170400Z",
     "iopub.status.busy": "2023-07-25T08:22:02.169960Z",
     "iopub.status.idle": "2023-07-25T08:22:02.195868Z",
     "shell.execute_reply": "2023-07-25T08:22:02.194359Z"
    },
    "papermill": {
     "duration": 0.033346,
     "end_time": "2023-07-25T08:22:02.198090",
     "exception": false,
     "start_time": "2023-07-25T08:22:02.164744",
     "status": "completed"
    },
    "tags": []
   },
   "outputs": [
    {
     "name": "stdout",
     "output_type": "stream",
     "text": [
      "tensor([[0.0149, 0.0166, 0.2638],\n",
      "        [0.0149, 0.0166, 0.2638],\n",
      "        [0.0149, 0.0166, 0.2638],\n",
      "        [0.0149, 0.0166, 0.2638],\n",
      "        [0.0149, 0.0166, 0.2638]])\n",
      "tensor([0.0149, 0.0166, 0.2638])\n"
     ]
    }
   ],
   "source": [
    "loss.backward()\n",
    "print(w.grad)\n",
    "print(b.grad)"
   ]
  },
  {
   "cell_type": "code",
   "execution_count": 5,
   "id": "6fb68255",
   "metadata": {
    "execution": {
     "iopub.execute_input": "2023-07-25T08:22:02.208092Z",
     "iopub.status.busy": "2023-07-25T08:22:02.207699Z",
     "iopub.status.idle": "2023-07-25T08:22:02.216286Z",
     "shell.execute_reply": "2023-07-25T08:22:02.214912Z"
    },
    "papermill": {
     "duration": 0.01636,
     "end_time": "2023-07-25T08:22:02.218489",
     "exception": false,
     "start_time": "2023-07-25T08:22:02.202129",
     "status": "completed"
    },
    "tags": []
   },
   "outputs": [
    {
     "name": "stdout",
     "output_type": "stream",
     "text": [
      "True\n",
      "False\n"
     ]
    }
   ],
   "source": [
    "z = tr.matmul(x, w)+b\n",
    "print(z.requires_grad)\n",
    "\n",
    "with tr.no_grad():\n",
    "    z = tr.matmul(x,w)+b\n",
    "    \n",
    "print(z.requires_grad)"
   ]
  },
  {
   "cell_type": "code",
   "execution_count": 6,
   "id": "5aa441b4",
   "metadata": {
    "execution": {
     "iopub.execute_input": "2023-07-25T08:22:02.228467Z",
     "iopub.status.busy": "2023-07-25T08:22:02.228081Z",
     "iopub.status.idle": "2023-07-25T08:22:02.235638Z",
     "shell.execute_reply": "2023-07-25T08:22:02.234431Z"
    },
    "papermill": {
     "duration": 0.015071,
     "end_time": "2023-07-25T08:22:02.237714",
     "exception": false,
     "start_time": "2023-07-25T08:22:02.222643",
     "status": "completed"
    },
    "tags": []
   },
   "outputs": [
    {
     "name": "stdout",
     "output_type": "stream",
     "text": [
      "False\n"
     ]
    }
   ],
   "source": [
    "z = tr.matmul(x,w)+b\n",
    "z_det = z.detach()\n",
    "print(z_det.requires_grad)"
   ]
  },
  {
   "cell_type": "code",
   "execution_count": 7,
   "id": "5a48b796",
   "metadata": {
    "execution": {
     "iopub.execute_input": "2023-07-25T08:22:02.247923Z",
     "iopub.status.busy": "2023-07-25T08:22:02.247537Z",
     "iopub.status.idle": "2023-07-25T08:22:02.261361Z",
     "shell.execute_reply": "2023-07-25T08:22:02.259850Z"
    },
    "papermill": {
     "duration": 0.021867,
     "end_time": "2023-07-25T08:22:02.263871",
     "exception": false,
     "start_time": "2023-07-25T08:22:02.242004",
     "status": "completed"
    },
    "tags": []
   },
   "outputs": [
    {
     "name": "stdout",
     "output_type": "stream",
     "text": [
      "First call : \n",
      "tensor([[4., 2., 2., 2., 2.],\n",
      "        [2., 4., 2., 2., 2.],\n",
      "        [2., 2., 4., 2., 2.],\n",
      "        [2., 2., 2., 4., 2.]])\n",
      "Second call : \n",
      "tensor([[8., 4., 4., 4., 4.],\n",
      "        [4., 8., 4., 4., 4.],\n",
      "        [4., 4., 8., 4., 4.],\n",
      "        [4., 4., 4., 8., 4.]])\n",
      "\n",
      " Call after zeroing gradient \n",
      "tensor([[4., 2., 2., 2., 2.],\n",
      "        [2., 4., 2., 2., 2.],\n",
      "        [2., 2., 4., 2., 2.],\n",
      "        [2., 2., 2., 4., 2.]])\n"
     ]
    }
   ],
   "source": [
    "inp = tr.eye(4,5, requires_grad = True)\n",
    "out = (inp+1).pow(2).t()\n",
    "out.backward(tr.ones_like(out), retain_graph = True)# same dimension as mat out\n",
    "print(f\"First call : \\n{inp.grad}\")\n",
    "out.backward(tr.ones_like(out), retain_graph = True)\n",
    "print(f\"Second call : \\n{inp.grad}\")\n",
    "inp.grad.zero_()\n",
    "out.backward(tr.ones_like(out), retain_graph = True)\n",
    "print(f\"\\n Call after zeroing gradient \\n{inp.grad}\")"
   ]
  }
 ],
 "metadata": {
  "kernelspec": {
   "display_name": "Python 3",
   "language": "python",
   "name": "python3"
  },
  "language_info": {
   "codemirror_mode": {
    "name": "ipython",
    "version": 3
   },
   "file_extension": ".py",
   "mimetype": "text/x-python",
   "name": "python",
   "nbconvert_exporter": "python",
   "pygments_lexer": "ipython3",
   "version": "3.10.12"
  },
  "papermill": {
   "default_parameters": {},
   "duration": 16.681439,
   "end_time": "2023-07-25T08:22:03.590546",
   "environment_variables": {},
   "exception": null,
   "input_path": "__notebook__.ipynb",
   "output_path": "__notebook__.ipynb",
   "parameters": {},
   "start_time": "2023-07-25T08:21:46.909107",
   "version": "2.4.0"
  }
 },
 "nbformat": 4,
 "nbformat_minor": 5
}
