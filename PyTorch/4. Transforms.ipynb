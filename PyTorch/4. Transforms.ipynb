{
 "cells": [
  {
   "cell_type": "markdown",
   "id": "ac60f83b",
   "metadata": {
    "papermill": {
     "duration": 0.002811,
     "end_time": "2023-07-24T09:15:25.307723",
     "exception": false,
     "start_time": "2023-07-24T09:15:25.304912",
     "status": "completed"
    },
    "tags": []
   },
   "source": [
    "# Tansforms"
   ]
  },
  {
   "cell_type": "markdown",
   "id": "e05acd42",
   "metadata": {
    "papermill": {
     "duration": 0.001938,
     "end_time": "2023-07-24T09:15:25.312206",
     "exception": false,
     "start_time": "2023-07-24T09:15:25.310268",
     "status": "completed"
    },
    "tags": []
   },
   "source": [
    "Imports"
   ]
  },
  {
   "cell_type": "code",
   "execution_count": 1,
   "id": "e32e532d",
   "metadata": {
    "execution": {
     "iopub.execute_input": "2023-07-24T09:15:25.318491Z",
     "iopub.status.busy": "2023-07-24T09:15:25.318084Z",
     "iopub.status.idle": "2023-07-24T09:15:34.452989Z",
     "shell.execute_reply": "2023-07-24T09:15:34.451111Z"
    },
    "papermill": {
     "duration": 9.141443,
     "end_time": "2023-07-24T09:15:34.455818",
     "exception": false,
     "start_time": "2023-07-24T09:15:25.314375",
     "status": "completed"
    },
    "tags": []
   },
   "outputs": [
    {
     "name": "stdout",
     "output_type": "stream",
     "text": [
      "Downloading http://fashion-mnist.s3-website.eu-central-1.amazonaws.com/train-images-idx3-ubyte.gz\n",
      "Downloading http://fashion-mnist.s3-website.eu-central-1.amazonaws.com/train-images-idx3-ubyte.gz to data/FashionMNIST/raw/train-images-idx3-ubyte.gz\n"
     ]
    },
    {
     "name": "stderr",
     "output_type": "stream",
     "text": [
      "100%|██████████| 26421880/26421880 [00:01<00:00, 17677550.83it/s]\n"
     ]
    },
    {
     "name": "stdout",
     "output_type": "stream",
     "text": [
      "Extracting data/FashionMNIST/raw/train-images-idx3-ubyte.gz to data/FashionMNIST/raw\n",
      "\n",
      "Downloading http://fashion-mnist.s3-website.eu-central-1.amazonaws.com/train-labels-idx1-ubyte.gz\n",
      "Downloading http://fashion-mnist.s3-website.eu-central-1.amazonaws.com/train-labels-idx1-ubyte.gz to data/FashionMNIST/raw/train-labels-idx1-ubyte.gz\n"
     ]
    },
    {
     "name": "stderr",
     "output_type": "stream",
     "text": [
      "100%|██████████| 29515/29515 [00:00<00:00, 303593.69it/s]\n"
     ]
    },
    {
     "name": "stdout",
     "output_type": "stream",
     "text": [
      "Extracting data/FashionMNIST/raw/train-labels-idx1-ubyte.gz to data/FashionMNIST/raw\n",
      "\n",
      "Downloading http://fashion-mnist.s3-website.eu-central-1.amazonaws.com/t10k-images-idx3-ubyte.gz\n",
      "Downloading http://fashion-mnist.s3-website.eu-central-1.amazonaws.com/t10k-images-idx3-ubyte.gz to data/FashionMNIST/raw/t10k-images-idx3-ubyte.gz\n"
     ]
    },
    {
     "name": "stderr",
     "output_type": "stream",
     "text": [
      "100%|██████████| 4422102/4422102 [00:00<00:00, 5571166.85it/s]\n"
     ]
    },
    {
     "name": "stdout",
     "output_type": "stream",
     "text": [
      "Extracting data/FashionMNIST/raw/t10k-images-idx3-ubyte.gz to data/FashionMNIST/raw\n",
      "\n",
      "Downloading http://fashion-mnist.s3-website.eu-central-1.amazonaws.com/t10k-labels-idx1-ubyte.gz\n",
      "Downloading http://fashion-mnist.s3-website.eu-central-1.amazonaws.com/t10k-labels-idx1-ubyte.gz to data/FashionMNIST/raw/t10k-labels-idx1-ubyte.gz\n"
     ]
    },
    {
     "name": "stderr",
     "output_type": "stream",
     "text": [
      "100%|██████████| 5148/5148 [00:00<00:00, 17756806.74it/s]"
     ]
    },
    {
     "name": "stdout",
     "output_type": "stream",
     "text": [
      "Extracting data/FashionMNIST/raw/t10k-labels-idx1-ubyte.gz to data/FashionMNIST/raw\n",
      "\n"
     ]
    },
    {
     "name": "stderr",
     "output_type": "stream",
     "text": [
      "\n"
     ]
    }
   ],
   "source": [
    "import torch\n",
    "from torchvision import datasets\n",
    "from torchvision.transforms import ToTensor, Lambda\n",
    "\n",
    "data = datasets.FashionMNIST(\n",
    "root = \"data\",\n",
    "train = True,\n",
    "download = True,\n",
    "transform = ToTensor,\n",
    "target_transform = Lambda(lambda y: torch.zeros(10, dtype = torch.float).scatter_(0,torch,ensor(y), value = 1)))"
   ]
  },
  {
   "cell_type": "code",
   "execution_count": 2,
   "id": "aed1dd6d",
   "metadata": {
    "execution": {
     "iopub.execute_input": "2023-07-24T09:15:34.471132Z",
     "iopub.status.busy": "2023-07-24T09:15:34.470418Z",
     "iopub.status.idle": "2023-07-24T09:15:34.476791Z",
     "shell.execute_reply": "2023-07-24T09:15:34.475627Z"
    },
    "papermill": {
     "duration": 0.017044,
     "end_time": "2023-07-24T09:15:34.479218",
     "exception": false,
     "start_time": "2023-07-24T09:15:34.462174",
     "status": "completed"
    },
    "tags": []
   },
   "outputs": [],
   "source": [
    "tager_transform= Lambda(lambda y: torch.zeros(10, dtype = tirch.float).scatter_(sim = 0, index = torch(y), value = 1))"
   ]
  }
 ],
 "metadata": {
  "kernelspec": {
   "display_name": "Python 3",
   "language": "python",
   "name": "python3"
  },
  "language_info": {
   "codemirror_mode": {
    "name": "ipython",
    "version": 3
   },
   "file_extension": ".py",
   "mimetype": "text/x-python",
   "name": "python",
   "nbconvert_exporter": "python",
   "pygments_lexer": "ipython3",
   "version": "3.10.12"
  },
  "papermill": {
   "default_parameters": {},
   "duration": 22.274768,
   "end_time": "2023-07-24T09:15:36.012195",
   "environment_variables": {},
   "exception": null,
   "input_path": "__notebook__.ipynb",
   "output_path": "__notebook__.ipynb",
   "parameters": {},
   "start_time": "2023-07-24T09:15:13.737427",
   "version": "2.4.0"
  }
 },
 "nbformat": 4,
 "nbformat_minor": 5
}
